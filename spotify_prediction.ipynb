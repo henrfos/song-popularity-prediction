{
 "cells": [
  {
   "cell_type": "markdown",
   "id": "d43c5cfa",
   "metadata": {},
   "source": [
    "# INFO284 Machine Learning gruppe eksamen, vår 2022"
   ]
  },
  {
   "cell_type": "markdown",
   "id": "09886c16",
   "metadata": {},
   "source": [
    "### Kanditat nr: 231, 222, 210, 224"
   ]
  },
  {
   "cell_type": "markdown",
   "id": "a4152437",
   "metadata": {},
   "source": [
    "Datasettet vi vil analysere og sette modeller på heter «albums_all.csv», dette datasettet inneholder flere attributer. Disse attributene inkluderer, navn på sanger og artister, tempo i sangene, energi, nivå på akustisk, hvor dansbar en sang er og mange flere lignende attributer. Det vi ville oppnå i denne notebooken var å få en god forståelse av dataen i datasettet, gjøre en god forbehandling av dataen og til slutt sette 4 modeller på denne dataen. Vi har to deler med preproscessing hvor den ene delen er rettet mot linear regression og den andre delen er rettet mot decision tree og neural network. Grunnen til at vi valgte å gjøre dette var for å unngå overtilpassing(overfitting) på linear regression modellen vår."
   ]
  },
  {
   "cell_type": "code",
   "execution_count": 50,
   "id": "c3961d02",
   "metadata": {},
   "outputs": [],
   "source": [
    "import collections\n",
    "import numpy as np\n",
    "import pandas as pd\n",
    "import seaborn as sns\n",
    "import matplotlib.pyplot as plt\n",
    "\n",
    "from sklearn.neural_network import MLPRegressor\n",
    "from sklearn.preprocessing import MinMaxScaler\n",
    "from sklearn.model_selection import train_test_split\n",
    "\n",
    "from sklearn.tree import DecisionTreeRegressor\n",
    "from sklearn.ensemble import RandomForestRegressor\n",
    "from sklearn.ensemble import GradientBoostingRegressor\n",
    "from sklearn.model_selection import cross_val_score, KFold, train_test_split\n",
    "import time\n",
    "from sklearn.linear_model import LogisticRegression"
   ]
  },
  {
   "cell_type": "code",
   "execution_count": 51,
   "id": "e8d57132",
   "metadata": {},
   "outputs": [
    {
     "name": "stdout",
     "output_type": "stream",
     "text": [
      "(2833, 45)\n"
     ]
    }
   ],
   "source": [
    "# Leser dataset og printer shape på dataset.\n",
    "df = pd.read_csv(\"albums_all.csv\")\n",
    "df2 = pd.read_csv(\"albums_all.csv\")\n",
    "\n",
    "print(df.shape)"
   ]
  },
  {
   "cell_type": "code",
   "execution_count": 52,
   "id": "c28600bf",
   "metadata": {},
   "outputs": [
    {
     "data": {
      "text/html": [
       "<div>\n",
       "<style scoped>\n",
       "    .dataframe tbody tr th:only-of-type {\n",
       "        vertical-align: middle;\n",
       "    }\n",
       "\n",
       "    .dataframe tbody tr th {\n",
       "        vertical-align: top;\n",
       "    }\n",
       "\n",
       "    .dataframe thead th {\n",
       "        text-align: right;\n",
       "    }\n",
       "</style>\n",
       "<table border=\"1\" class=\"dataframe\">\n",
       "  <thead>\n",
       "    <tr style=\"text-align: right;\">\n",
       "      <th></th>\n",
       "      <th>name</th>\n",
       "      <th>id</th>\n",
       "      <th>release_date</th>\n",
       "      <th>artists</th>\n",
       "      <th>total_tracks</th>\n",
       "      <th>t_name0</th>\n",
       "      <th>t_name1</th>\n",
       "      <th>t_name2</th>\n",
       "      <th>t_dur0</th>\n",
       "      <th>t_dur1</th>\n",
       "      <th>...</th>\n",
       "      <th>t_val0</th>\n",
       "      <th>t_val1</th>\n",
       "      <th>t_val2</th>\n",
       "      <th>t_tempo0</th>\n",
       "      <th>t_tempo1</th>\n",
       "      <th>t_tempo2</th>\n",
       "      <th>t_sig0</th>\n",
       "      <th>t_sig1</th>\n",
       "      <th>t_sig2</th>\n",
       "      <th>popularity</th>\n",
       "    </tr>\n",
       "  </thead>\n",
       "  <tbody>\n",
       "    <tr>\n",
       "      <th>0</th>\n",
       "      <td>\"Fragtime\" Theme Song \"Fragile\"</td>\n",
       "      <td>22352</td>\n",
       "      <td>2000</td>\n",
       "      <td>Moritani Misuzu (CV:Miku Ito), Murakami Haruka...</td>\n",
       "      <td>4</td>\n",
       "      <td>Fragile</td>\n",
       "      <td>11:00a.m.</td>\n",
       "      <td>Fragile - Instrumental</td>\n",
       "      <td>292720</td>\n",
       "      <td>293760.0</td>\n",
       "      <td>...</td>\n",
       "      <td>0.330</td>\n",
       "      <td>0.5390</td>\n",
       "      <td>0.1920</td>\n",
       "      <td>84.008</td>\n",
       "      <td>187.910</td>\n",
       "      <td>84.002</td>\n",
       "      <td>4.0</td>\n",
       "      <td>3.0</td>\n",
       "      <td>4.0</td>\n",
       "      <td>21</td>\n",
       "    </tr>\n",
       "    <tr>\n",
       "      <th>1</th>\n",
       "      <td>\"Green n' gold Hits\"</td>\n",
       "      <td>106534</td>\n",
       "      <td>2011-09-16</td>\n",
       "      <td>C.W.A. Cheeseheads With Attitude,</td>\n",
       "      <td>12</td>\n",
       "      <td>\"Packer Face\" (Everybody Vince Lombardi)</td>\n",
       "      <td>\"I Love Green Bay\" (Player Mix)</td>\n",
       "      <td>\"Beer Wit Da Bret\"</td>\n",
       "      <td>213760</td>\n",
       "      <td>181000.0</td>\n",
       "      <td>...</td>\n",
       "      <td>0.965</td>\n",
       "      <td>0.7830</td>\n",
       "      <td>0.3770</td>\n",
       "      <td>119.032</td>\n",
       "      <td>128.002</td>\n",
       "      <td>181.241</td>\n",
       "      <td>4.0</td>\n",
       "      <td>4.0</td>\n",
       "      <td>4.0</td>\n",
       "      <td>14</td>\n",
       "    </tr>\n",
       "    <tr>\n",
       "      <th>2</th>\n",
       "      <td>\"Zuhause Live: Das Laune der Natour-Finale\" pl...</td>\n",
       "      <td>23608</td>\n",
       "      <td>2019-03-29</td>\n",
       "      <td>Die Toten Hosen,</td>\n",
       "      <td>59</td>\n",
       "      <td>Laune der Natur - das Intro - Live in Düsseldo...</td>\n",
       "      <td>Opel-Gang - Live in Düsseldorf 2018</td>\n",
       "      <td>Auswärtsspiel - Live in Düsseldorf 2018</td>\n",
       "      <td>157124</td>\n",
       "      <td>130446.0</td>\n",
       "      <td>...</td>\n",
       "      <td>0.579</td>\n",
       "      <td>0.0475</td>\n",
       "      <td>0.0945</td>\n",
       "      <td>84.010</td>\n",
       "      <td>127.755</td>\n",
       "      <td>99.284</td>\n",
       "      <td>4.0</td>\n",
       "      <td>4.0</td>\n",
       "      <td>4.0</td>\n",
       "      <td>41</td>\n",
       "    </tr>\n",
       "    <tr>\n",
       "      <th>3</th>\n",
       "      <td>#Gsnls</td>\n",
       "      <td>8655</td>\n",
       "      <td>2020-08-02</td>\n",
       "      <td>Surf'n,</td>\n",
       "      <td>8</td>\n",
       "      <td>Lock'n Legs</td>\n",
       "      <td>Capt'n Saven Em</td>\n",
       "      <td>Bloods &amp; Crips</td>\n",
       "      <td>127896</td>\n",
       "      <td>176351.0</td>\n",
       "      <td>...</td>\n",
       "      <td>0.624</td>\n",
       "      <td>0.3840</td>\n",
       "      <td>0.6510</td>\n",
       "      <td>100.053</td>\n",
       "      <td>99.999</td>\n",
       "      <td>95.017</td>\n",
       "      <td>4.0</td>\n",
       "      <td>4.0</td>\n",
       "      <td>4.0</td>\n",
       "      <td>1</td>\n",
       "    </tr>\n",
       "    <tr>\n",
       "      <th>4</th>\n",
       "      <td>#Hektarparty</td>\n",
       "      <td>49670</td>\n",
       "      <td>2018-09-21</td>\n",
       "      <td>Die Draufgänger,</td>\n",
       "      <td>17</td>\n",
       "      <td>Die Hektar hat 2.0</td>\n",
       "      <td>Johnny Deere</td>\n",
       "      <td>Gina Lisa (Spiel mit deinen Glocken)</td>\n",
       "      <td>210320</td>\n",
       "      <td>226253.0</td>\n",
       "      <td>...</td>\n",
       "      <td>0.840</td>\n",
       "      <td>0.6650</td>\n",
       "      <td>0.5200</td>\n",
       "      <td>128.041</td>\n",
       "      <td>132.013</td>\n",
       "      <td>135.969</td>\n",
       "      <td>4.0</td>\n",
       "      <td>4.0</td>\n",
       "      <td>4.0</td>\n",
       "      <td>47</td>\n",
       "    </tr>\n",
       "  </tbody>\n",
       "</table>\n",
       "<p>5 rows × 45 columns</p>\n",
       "</div>"
      ],
      "text/plain": [
       "                                                name      id release_date  \\\n",
       "0                    \"Fragtime\" Theme Song \"Fragile\"   22352         2000   \n",
       "1                               \"Green n' gold Hits\"  106534   2011-09-16   \n",
       "2  \"Zuhause Live: Das Laune der Natour-Finale\" pl...   23608   2019-03-29   \n",
       "3                                             #Gsnls    8655   2020-08-02   \n",
       "4                                       #Hektarparty   49670   2018-09-21   \n",
       "\n",
       "                                             artists  total_tracks  \\\n",
       "0  Moritani Misuzu (CV:Miku Ito), Murakami Haruka...             4   \n",
       "1                 C.W.A. Cheeseheads With Attitude,             12   \n",
       "2                                  Die Toten Hosen,             59   \n",
       "3                                           Surf'n,              8   \n",
       "4                                  Die Draufgänger,             17   \n",
       "\n",
       "                                             t_name0  \\\n",
       "0                                            Fragile   \n",
       "1           \"Packer Face\" (Everybody Vince Lombardi)   \n",
       "2  Laune der Natur - das Intro - Live in Düsseldo...   \n",
       "3                                        Lock'n Legs   \n",
       "4                                 Die Hektar hat 2.0   \n",
       "\n",
       "                               t_name1  \\\n",
       "0                            11:00a.m.   \n",
       "1      \"I Love Green Bay\" (Player Mix)   \n",
       "2  Opel-Gang - Live in Düsseldorf 2018   \n",
       "3                      Capt'n Saven Em   \n",
       "4                         Johnny Deere   \n",
       "\n",
       "                                   t_name2  t_dur0    t_dur1  ...  t_val0  \\\n",
       "0                   Fragile - Instrumental  292720  293760.0  ...   0.330   \n",
       "1                       \"Beer Wit Da Bret\"  213760  181000.0  ...   0.965   \n",
       "2  Auswärtsspiel - Live in Düsseldorf 2018  157124  130446.0  ...   0.579   \n",
       "3                           Bloods & Crips  127896  176351.0  ...   0.624   \n",
       "4     Gina Lisa (Spiel mit deinen Glocken)  210320  226253.0  ...   0.840   \n",
       "\n",
       "   t_val1  t_val2  t_tempo0  t_tempo1  t_tempo2  t_sig0  t_sig1  t_sig2  \\\n",
       "0  0.5390  0.1920    84.008   187.910    84.002     4.0     3.0     4.0   \n",
       "1  0.7830  0.3770   119.032   128.002   181.241     4.0     4.0     4.0   \n",
       "2  0.0475  0.0945    84.010   127.755    99.284     4.0     4.0     4.0   \n",
       "3  0.3840  0.6510   100.053    99.999    95.017     4.0     4.0     4.0   \n",
       "4  0.6650  0.5200   128.041   132.013   135.969     4.0     4.0     4.0   \n",
       "\n",
       "   popularity  \n",
       "0          21  \n",
       "1          14  \n",
       "2          41  \n",
       "3           1  \n",
       "4          47  \n",
       "\n",
       "[5 rows x 45 columns]"
      ]
     },
     "execution_count": 52,
     "metadata": {},
     "output_type": "execute_result"
    }
   ],
   "source": [
    "# Rask titt på dataset\n",
    "df.head()"
   ]
  },
  {
   "cell_type": "code",
   "execution_count": 53,
   "id": "dddc9dc5",
   "metadata": {},
   "outputs": [
    {
     "name": "stdout",
     "output_type": "stream",
     "text": [
      "<class 'pandas.core.frame.DataFrame'>\n",
      "RangeIndex: 2833 entries, 0 to 2832\n",
      "Data columns (total 45 columns):\n",
      " #   Column        Non-Null Count  Dtype  \n",
      "---  ------        --------------  -----  \n",
      " 0   name          2833 non-null   object \n",
      " 1   id            2833 non-null   int64  \n",
      " 2   release_date  2833 non-null   object \n",
      " 3   artists       2833 non-null   object \n",
      " 4   total_tracks  2833 non-null   int64  \n",
      " 5   t_name0       2833 non-null   object \n",
      " 6   t_name1       2833 non-null   object \n",
      " 7   t_name2       2833 non-null   object \n",
      " 8   t_dur0        2833 non-null   int64  \n",
      " 9   t_dur1        2833 non-null   float64\n",
      " 10  t_dur2        2833 non-null   float64\n",
      " 11  t_dance0      2833 non-null   float64\n",
      " 12  t_dance1      2833 non-null   float64\n",
      " 13  t_dance2      2833 non-null   float64\n",
      " 14  t_energy0     2833 non-null   float64\n",
      " 15  t_energy1     2833 non-null   float64\n",
      " 16  t_energy2     2833 non-null   float64\n",
      " 17  t_key0        2833 non-null   float64\n",
      " 18  t_key1        2833 non-null   float64\n",
      " 19  t_key2        2833 non-null   float64\n",
      " 20  t_mode0       2833 non-null   float64\n",
      " 21  t_mode1       2833 non-null   float64\n",
      " 22  t_mode2       2833 non-null   float64\n",
      " 23  t_speech0     2833 non-null   float64\n",
      " 24  t_speech1     2833 non-null   float64\n",
      " 25  t_speech2     2833 non-null   float64\n",
      " 26  t_acous0      2833 non-null   float64\n",
      " 27  t_acous1      2833 non-null   float64\n",
      " 28  t_acous2      2833 non-null   float64\n",
      " 29  t_ins0        2833 non-null   float64\n",
      " 30  t_ins1        2833 non-null   float64\n",
      " 31  t_ins2        2833 non-null   float64\n",
      " 32  t_live0       2833 non-null   float64\n",
      " 33  t_live1       2833 non-null   float64\n",
      " 34  t_live2       2833 non-null   float64\n",
      " 35  t_val0        2833 non-null   float64\n",
      " 36  t_val1        2833 non-null   float64\n",
      " 37  t_val2        2833 non-null   float64\n",
      " 38  t_tempo0      2833 non-null   float64\n",
      " 39  t_tempo1      2833 non-null   float64\n",
      " 40  t_tempo2      2833 non-null   float64\n",
      " 41  t_sig0        2833 non-null   float64\n",
      " 42  t_sig1        2833 non-null   float64\n",
      " 43  t_sig2        2833 non-null   float64\n",
      " 44  popularity    2833 non-null   int64  \n",
      "dtypes: float64(35), int64(4), object(6)\n",
      "memory usage: 996.1+ KB\n"
     ]
    }
   ],
   "source": [
    "# Ser på hva slags D-TYPE attributtene har.\n",
    "# Som man kan se under har vi 35 floats, 3 int and 6 objects\n",
    "df.info()"
   ]
  },
  {
   "cell_type": "code",
   "execution_count": 54,
   "id": "4ab26eff",
   "metadata": {},
   "outputs": [
    {
     "data": {
      "text/plain": [
       "Index(['name', 'id', 'release_date', 'artists', 'total_tracks', 't_name0',\n",
       "       't_name1', 't_name2', 't_dur0', 't_dur1', 't_dur2', 't_dance0',\n",
       "       't_dance1', 't_dance2', 't_energy0', 't_energy1', 't_energy2', 't_key0',\n",
       "       't_key1', 't_key2', 't_mode0', 't_mode1', 't_mode2', 't_speech0',\n",
       "       't_speech1', 't_speech2', 't_acous0', 't_acous1', 't_acous2', 't_ins0',\n",
       "       't_ins1', 't_ins2', 't_live0', 't_live1', 't_live2', 't_val0', 't_val1',\n",
       "       't_val2', 't_tempo0', 't_tempo1', 't_tempo2', 't_sig0', 't_sig1',\n",
       "       't_sig2', 'popularity'],\n",
       "      dtype='object')"
      ]
     },
     "execution_count": 54,
     "metadata": {},
     "output_type": "execute_result"
    }
   ],
   "source": [
    "#Ser på attributtene \n",
    "df.columns"
   ]
  },
  {
   "cell_type": "markdown",
   "id": "07279369",
   "metadata": {},
   "source": [
    "# Preproscessing for neural network, decision trees og logistic regression"
   ]
  },
  {
   "cell_type": "markdown",
   "id": "a369f828",
   "metadata": {},
   "source": [
    "Istedenfor å fjerne outliers på tempo, fant vi heller gjennomsnittet på de tre featuresene som ga oss mindre outliers, imotsetning til duration der vi fortsatt var nødt til å fjerne outliersene."
   ]
  },
  {
   "cell_type": "code",
   "execution_count": 55,
   "id": "79fba7e5",
   "metadata": {},
   "outputs": [],
   "source": [
    "#Finner gjennomsnittet på utvalgte features og lager dem til en sammenlagt feature\n",
    "df2[\"duration\"] = df2[['t_dur0', 't_dur1', 't_dur2']].mean(axis=1)\n",
    "df2[\"tempo\"] = df2[['t_tempo0', 't_tempo1', 't_tempo2']].mean(axis=1)"
   ]
  },
  {
   "cell_type": "code",
   "execution_count": 56,
   "id": "b57ae76f",
   "metadata": {},
   "outputs": [
    {
     "data": {
      "image/png": "[encoded data removed]",
      "text/plain": [
       "<Figure size 432x288 with 1 Axes>"
      ]
     },
     "metadata": {
      "needs_background": "light"
     },
     "output_type": "display_data"
    },
    {
     "data": {
      "image/png": "[encoded data removed]",
      "text/plain": [
       "<Figure size 432x288 with 1 Axes>"
      ]
     },
     "metadata": {
      "needs_background": "light"
     },
     "output_type": "display_data"
    }
   ],
   "source": [
    "#Ser om det ligger outliers i popularity og duration dataen\n",
    "for i in df2[[\"popularity\", \"duration\"]]:\n",
    "    sns.boxplot(x=i, data=df2)\n",
    "    plt.ticklabel_format(style='plain', axis='x')\n",
    "    plt.title(i)\n",
    "    plt.show()"
   ]
  },
  {
   "cell_type": "code",
   "execution_count": 57,
   "id": "4830b162",
   "metadata": {},
   "outputs": [],
   "source": [
    "#Fjerner outliers på utvalgte features\n",
    "df2 = df2[(df2[\"popularity\"] > 1.0) & (df2[\"popularity\"] < 80)]\n",
    "df2 = df2[(df2[\"duration\"] > 0) & (df2[\"duration\"] < 1600000)]"
   ]
  },
  {
   "cell_type": "code",
   "execution_count": 58,
   "id": "f85f6a59",
   "metadata": {},
   "outputs": [
    {
     "data": {
      "image/png": "[encoded data removed]",
      "text/plain": [
       "<Figure size 432x288 with 1 Axes>"
      ]
     },
     "metadata": {
      "needs_background": "light"
     },
     "output_type": "display_data"
    },
    {
     "data": {
      "image/png": "[encoded data removed]",
      "text/plain": [
       "<Figure size 432x288 with 1 Axes>"
      ]
     },
     "metadata": {
      "needs_background": "light"
     },
     "output_type": "display_data"
    }
   ],
   "source": [
    "#Sjekker om outliersene har blitt fjernet\n",
    "for i in df2[[\"popularity\", \"duration\"]]:\n",
    "    sns.boxplot(x=i, data=df2)\n",
    "    plt.ticklabel_format(style='plain', axis='x')\n",
    "    plt.title(i)\n",
    "    plt.show()"
   ]
  },
  {
   "cell_type": "markdown",
   "id": "6402ece3",
   "metadata": {},
   "source": [
    "For å få programmet til å kjøre var vi nødt til å fjerne alle strings. Hvis strings var inkludert i datasettet ville det komt opp feilmeldinger. Ettersom vi allerede hadde laget gjennomsnittet av tempo og duration fjernet vi de featuresene også, men beholdt gjennomsnittsverdien. Siden t-sig0-2 hadde kun hadde fire forskjellige verdier, og alt var outliers, fjernet vi de featuresene også."
   ]
  },
  {
   "cell_type": "code",
   "execution_count": 59,
   "id": "10633fde",
   "metadata": {},
   "outputs": [
    {
     "data": {
      "text/plain": [
       "Index(['total_tracks', 't_dance0', 't_dance1', 't_dance2', 't_energy0',\n",
       "       't_energy1', 't_energy2', 't_key0', 't_key1', 't_key2', 't_mode0',\n",
       "       't_mode1', 't_mode2', 't_speech0', 't_speech1', 't_speech2', 't_acous0',\n",
       "       't_acous1', 't_acous2', 't_ins0', 't_ins1', 't_ins2', 't_live0',\n",
       "       't_live1', 't_live2', 't_val0', 't_val1', 't_val2', 'duration',\n",
       "       'tempo'],\n",
       "      dtype='object')"
      ]
     },
     "execution_count": 59,
     "metadata": {},
     "output_type": "execute_result"
    }
   ],
   "source": [
    "#Fjerner features som inneholder strings, i tillegg til spesifikt utvalgte integer features\n",
    "X2 = df2.drop(columns = [\n",
    "    \"name\", \"id\", \"release_date\", \"artists\", \"t_name0\", \"t_name1\",\n",
    "    \"t_name2\",'t_sig0', 't_sig1', 't_sig2','t_tempo0', \n",
    "    \"t_tempo1\", 't_tempo2',\n",
    "    't_dur0', 't_dur1', 't_dur2', \"popularity\"])\n",
    "#Gir \"y\" verdien popularity \n",
    "y2 = df2[\"popularity\"]\n",
    "#Sjekker om de utvalgte featuresene har blitt fjernet\n",
    "X2.keys()"
   ]
  },
  {
   "cell_type": "code",
   "execution_count": 60,
   "id": "e05e79bc",
   "metadata": {},
   "outputs": [
    {
     "data": {
      "image/png": "[encoded data removed]",
      "text/plain": [
       "<Figure size 1080x432 with 1 Axes>"
      ]
     },
     "metadata": {
      "needs_background": "light"
     },
     "output_type": "display_data"
    },
    {
     "data": {
      "image/png": "[encoded data removed]",
      "text/plain": [
       "<Figure size 432x288 with 1 Axes>"
      ]
     },
     "metadata": {
      "needs_background": "light"
     },
     "output_type": "display_data"
    },
    {
     "data": {
      "image/png": "[encoded data removed]",
      "text/plain": [
       "<Figure size 432x288 with 1 Axes>"
      ]
     },
     "metadata": {
      "needs_background": "light"
     },
     "output_type": "display_data"
    },
    {
     "data": {
      "image/png": "[encoded data removed]",
      "text/plain": [
       "<Figure size 432x288 with 1 Axes>"
      ]
     },
     "metadata": {
      "needs_background": "light"
     },
     "output_type": "display_data"
    },
    {
     "data": {
      "image/png": "[encoded data removed]",
      "text/plain": [
       "<Figure size 432x288 with 1 Axes>"
      ]
     },
     "metadata": {
      "needs_background": "light"
     },
     "output_type": "display_data"
    },
    {
     "data": {
      "image/png": "[encoded data removed]",
      "text/plain": [
       "<Figure size 432x288 with 1 Axes>"
      ]
     },
     "metadata": {
      "needs_background": "light"
     },
     "output_type": "display_data"
    },
    {
     "data": {
      "image/png": "[encoded data removed]",
      "text/plain": [
       "<Figure size 432x288 with 1 Axes>"
      ]
     },
     "metadata": {
      "needs_background": "light"
     },
     "output_type": "display_data"
    },
    {
     "data": {
      "image/png": "[encoded data removed]",
      "text/plain": [
       "<Figure size 432x288 with 1 Axes>"
      ]
     },
     "metadata": {
      "needs_background": "light"
     },
     "output_type": "display_data"
    },
    {
     "data": {
      "image/png": "[encoded data removed]",
      "text/plain": [
       "<Figure size 432x288 with 1 Axes>"
      ]
     },
     "metadata": {
      "needs_background": "light"
     },
     "output_type": "display_data"
    },
    {
     "data": {
      "image/png": "[encoded data removed]",
      "text/plain": [
       "<Figure size 432x288 with 1 Axes>"
      ]
     },
     "metadata": {
      "needs_background": "light"
     },
     "output_type": "display_data"
    },
    {
     "data": {
      "image/png": "[encoded data removed]",
      "text/plain": [
       "<Figure size 432x288 with 1 Axes>"
      ]
     },
     "metadata": {
      "needs_background": "light"
     },
     "output_type": "display_data"
    },
    {
     "data": {
      "image/png": "[encoded data removed]",
      "text/plain": [
       "<Figure size 432x288 with 1 Axes>"
      ]
     },
     "metadata": {
      "needs_background": "light"
     },
     "output_type": "display_data"
    },
    {
     "data": {
      "image/png": "[encoded data removed]",
      "text/plain": [
       "<Figure size 432x288 with 1 Axes>"
      ]
     },
     "metadata": {
      "needs_background": "light"
     },
     "output_type": "display_data"
    },
    {
     "data": {
      "image/png": "[encoded data removed]",
      "text/plain": [
       "<Figure size 432x288 with 1 Axes>"
      ]
     },
     "metadata": {
      "needs_background": "light"
     },
     "output_type": "display_data"
    },
    {
     "data": {
      "image/png": "[encoded data removed]",
      "text/plain": [
       "<Figure size 432x288 with 1 Axes>"
      ]
     },
     "metadata": {
      "needs_background": "light"
     },
     "output_type": "display_data"
    },
    {
     "data": {
      "image/png": "[encoded data removed]",
      "text/plain": [
       "<Figure size 432x288 with 1 Axes>"
      ]
     },
     "metadata": {
      "needs_background": "light"
     },
     "output_type": "display_data"
    },
    {
     "data": {
      "image/png": "[encoded data removed]",
      "text/plain": [
       "<Figure size 432x288 with 1 Axes>"
      ]
     },
     "metadata": {
      "needs_background": "light"
     },
     "output_type": "display_data"
    },
    {
     "data": {
      "image/png": "[encoded data removed]",
      "text/plain": [
       "<Figure size 432x288 with 1 Axes>"
      ]
     },
     "metadata": {
      "needs_background": "light"
     },
     "output_type": "display_data"
    },
    {
     "data": {
      "image/png": "[encoded data removed]",
      "text/plain": [
       "<Figure size 432x288 with 1 Axes>"
      ]
     },
     "metadata": {
      "needs_background": "light"
     },
     "output_type": "display_data"
    },
    {
     "data": {
      "image/png": "[encoded data removed]",
      "text/plain": [
       "<Figure size 432x288 with 1 Axes>"
      ]
     },
     "metadata": {
      "needs_background": "light"
     },
     "output_type": "display_data"
    },
    {
     "data": {
      "image/png": "[encoded data removed]",
      "text/plain": [
       "<Figure size 432x288 with 1 Axes>"
      ]
     },
     "metadata": {
      "needs_background": "light"
     },
     "output_type": "display_data"
    },
    {
     "data": {
      "image/png": "[encoded data removed]",
      "text/plain": [
       "<Figure size 432x288 with 1 Axes>"
      ]
     },
     "metadata": {
      "needs_background": "light"
     },
     "output_type": "display_data"
    },
    {
     "data": {
      "image/png": "[encoded data removed]",
      "text/plain": [
       "<Figure size 432x288 with 1 Axes>"
      ]
     },
     "metadata": {
      "needs_background": "light"
     },
     "output_type": "display_data"
    },
    {
     "data": {
      "image/png": "[encoded data removed]",
      "text/plain": [
       "<Figure size 432x288 with 1 Axes>"
      ]
     },
     "metadata": {
      "needs_background": "light"
     },
     "output_type": "display_data"
    },
    {
     "data": {
      "image/png": "[encoded data removed]",
      "text/plain": [
       "<Figure size 432x288 with 1 Axes>"
      ]
     },
     "metadata": {
      "needs_background": "light"
     },
     "output_type": "display_data"
    },
    {
     "data": {
      "image/png": "[encoded data removed]",
      "text/plain": [
       "<Figure size 432x288 with 1 Axes>"
      ]
     },
     "metadata": {
      "needs_background": "light"
     },
     "output_type": "display_data"
    },
    {
     "data": {
      "image/png": "[encoded data removed]",
      "text/plain": [
       "<Figure size 432x288 with 1 Axes>"
      ]
     },
     "metadata": {
      "needs_background": "light"
     },
     "output_type": "display_data"
    },
    {
     "data": {
      "image/png": "[encoded data removed]",
      "text/plain": [
       "<Figure size 432x288 with 1 Axes>"
      ]
     },
     "metadata": {
      "needs_background": "light"
     },
     "output_type": "display_data"
    },
    {
     "data": {
      "image/png": "[encoded data removed]",
      "text/plain": [
       "<Figure size 432x288 with 1 Axes>"
      ]
     },
     "metadata": {
      "needs_background": "light"
     },
     "output_type": "display_data"
    },
    {
     "data": {
      "image/png": "[encoded data removed]",
      "text/plain": [
       "<Figure size 432x288 with 1 Axes>"
      ]
     },
     "metadata": {
      "needs_background": "light"
     },
     "output_type": "display_data"
    }
   ],
   "source": [
    "#Sjekker om de finnes flere outliers i \"X\" verdien\n",
    "plt.figure(figsize=(15,6))\n",
    "for i in X2.keys():\n",
    "    sns.boxplot(x=i, data=df2)\n",
    "    plt.ticklabel_format(style='plain', axis='x')\n",
    "    plt.title(i)\n",
    "    plt.show()"
   ]
  },
  {
   "cell_type": "code",
   "execution_count": 61,
   "id": "abd9ec12",
   "metadata": {},
   "outputs": [],
   "source": [
    "scaler = MinMaxScaler()\n",
    "scaler.fit(X2)\n",
    "X2 = scaler.transform(X2)"
   ]
  },
  {
   "cell_type": "code",
   "execution_count": 62,
   "id": "94aaff44",
   "metadata": {},
   "outputs": [],
   "source": [
    "#Lager training og testing verdiene med importen train_test_split\n",
    "X2_train, X2_test, y2_train, y2_test = train_test_split(X2, y2, random_state=4)"
   ]
  },
  {
   "cell_type": "markdown",
   "id": "9d8a2254",
   "metadata": {},
   "source": [
    "# Preproscessing for linear regression"
   ]
  },
  {
   "cell_type": "code",
   "execution_count": 63,
   "id": "b7d33d4e",
   "metadata": {},
   "outputs": [
    {
     "data": {
      "text/html": [
       "<div>\n",
       "<style scoped>\n",
       "    .dataframe tbody tr th:only-of-type {\n",
       "        vertical-align: middle;\n",
       "    }\n",
       "\n",
       "    .dataframe tbody tr th {\n",
       "        vertical-align: top;\n",
       "    }\n",
       "\n",
       "    .dataframe thead th {\n",
       "        text-align: right;\n",
       "    }\n",
       "</style>\n",
       "<table border=\"1\" class=\"dataframe\">\n",
       "  <thead>\n",
       "    <tr style=\"text-align: right;\">\n",
       "      <th></th>\n",
       "      <th>id</th>\n",
       "      <th>total_tracks</th>\n",
       "      <th>t_dur0</th>\n",
       "      <th>t_dur1</th>\n",
       "      <th>t_dur2</th>\n",
       "      <th>t_dance0</th>\n",
       "      <th>t_dance1</th>\n",
       "      <th>t_dance2</th>\n",
       "      <th>t_energy0</th>\n",
       "      <th>t_energy1</th>\n",
       "      <th>...</th>\n",
       "      <th>t_val0</th>\n",
       "      <th>t_val1</th>\n",
       "      <th>t_val2</th>\n",
       "      <th>t_tempo0</th>\n",
       "      <th>t_tempo1</th>\n",
       "      <th>t_tempo2</th>\n",
       "      <th>t_sig0</th>\n",
       "      <th>t_sig1</th>\n",
       "      <th>t_sig2</th>\n",
       "      <th>popularity</th>\n",
       "    </tr>\n",
       "  </thead>\n",
       "  <tbody>\n",
       "    <tr>\n",
       "      <th>0</th>\n",
       "      <td>22352</td>\n",
       "      <td>4</td>\n",
       "      <td>292720</td>\n",
       "      <td>293760.0</td>\n",
       "      <td>292733.0</td>\n",
       "      <td>0.549</td>\n",
       "      <td>0.623</td>\n",
       "      <td>0.519</td>\n",
       "      <td>0.559</td>\n",
       "      <td>0.256</td>\n",
       "      <td>...</td>\n",
       "      <td>0.330</td>\n",
       "      <td>0.5390</td>\n",
       "      <td>0.1920</td>\n",
       "      <td>84.008</td>\n",
       "      <td>187.910</td>\n",
       "      <td>84.002</td>\n",
       "      <td>4.0</td>\n",
       "      <td>3.0</td>\n",
       "      <td>4.0</td>\n",
       "      <td>21</td>\n",
       "    </tr>\n",
       "    <tr>\n",
       "      <th>1</th>\n",
       "      <td>106534</td>\n",
       "      <td>12</td>\n",
       "      <td>213760</td>\n",
       "      <td>181000.0</td>\n",
       "      <td>245973.0</td>\n",
       "      <td>0.871</td>\n",
       "      <td>0.702</td>\n",
       "      <td>0.416</td>\n",
       "      <td>0.854</td>\n",
       "      <td>0.893</td>\n",
       "      <td>...</td>\n",
       "      <td>0.965</td>\n",
       "      <td>0.7830</td>\n",
       "      <td>0.3770</td>\n",
       "      <td>119.032</td>\n",
       "      <td>128.002</td>\n",
       "      <td>181.241</td>\n",
       "      <td>4.0</td>\n",
       "      <td>4.0</td>\n",
       "      <td>4.0</td>\n",
       "      <td>14</td>\n",
       "    </tr>\n",
       "    <tr>\n",
       "      <th>2</th>\n",
       "      <td>23608</td>\n",
       "      <td>59</td>\n",
       "      <td>157124</td>\n",
       "      <td>130446.0</td>\n",
       "      <td>152450.0</td>\n",
       "      <td>0.289</td>\n",
       "      <td>0.328</td>\n",
       "      <td>0.234</td>\n",
       "      <td>0.936</td>\n",
       "      <td>0.995</td>\n",
       "      <td>...</td>\n",
       "      <td>0.579</td>\n",
       "      <td>0.0475</td>\n",
       "      <td>0.0945</td>\n",
       "      <td>84.010</td>\n",
       "      <td>127.755</td>\n",
       "      <td>99.284</td>\n",
       "      <td>4.0</td>\n",
       "      <td>4.0</td>\n",
       "      <td>4.0</td>\n",
       "      <td>41</td>\n",
       "    </tr>\n",
       "    <tr>\n",
       "      <th>3</th>\n",
       "      <td>8655</td>\n",
       "      <td>8</td>\n",
       "      <td>127896</td>\n",
       "      <td>176351.0</td>\n",
       "      <td>166968.0</td>\n",
       "      <td>0.886</td>\n",
       "      <td>0.947</td>\n",
       "      <td>0.826</td>\n",
       "      <td>0.818</td>\n",
       "      <td>0.629</td>\n",
       "      <td>...</td>\n",
       "      <td>0.624</td>\n",
       "      <td>0.3840</td>\n",
       "      <td>0.6510</td>\n",
       "      <td>100.053</td>\n",
       "      <td>99.999</td>\n",
       "      <td>95.017</td>\n",
       "      <td>4.0</td>\n",
       "      <td>4.0</td>\n",
       "      <td>4.0</td>\n",
       "      <td>1</td>\n",
       "    </tr>\n",
       "    <tr>\n",
       "      <th>4</th>\n",
       "      <td>49670</td>\n",
       "      <td>17</td>\n",
       "      <td>210320</td>\n",
       "      <td>226253.0</td>\n",
       "      <td>211880.0</td>\n",
       "      <td>0.724</td>\n",
       "      <td>0.791</td>\n",
       "      <td>0.784</td>\n",
       "      <td>0.827</td>\n",
       "      <td>0.737</td>\n",
       "      <td>...</td>\n",
       "      <td>0.840</td>\n",
       "      <td>0.6650</td>\n",
       "      <td>0.5200</td>\n",
       "      <td>128.041</td>\n",
       "      <td>132.013</td>\n",
       "      <td>135.969</td>\n",
       "      <td>4.0</td>\n",
       "      <td>4.0</td>\n",
       "      <td>4.0</td>\n",
       "      <td>47</td>\n",
       "    </tr>\n",
       "  </tbody>\n",
       "</table>\n",
       "<p>5 rows × 39 columns</p>\n",
       "</div>"
      ],
      "text/plain": [
       "       id  total_tracks  t_dur0    t_dur1    t_dur2  t_dance0  t_dance1  \\\n",
       "0   22352             4  292720  293760.0  292733.0     0.549     0.623   \n",
       "1  106534            12  213760  181000.0  245973.0     0.871     0.702   \n",
       "2   23608            59  157124  130446.0  152450.0     0.289     0.328   \n",
       "3    8655             8  127896  176351.0  166968.0     0.886     0.947   \n",
       "4   49670            17  210320  226253.0  211880.0     0.724     0.791   \n",
       "\n",
       "   t_dance2  t_energy0  t_energy1  ...  t_val0  t_val1  t_val2  t_tempo0  \\\n",
       "0     0.519      0.559      0.256  ...   0.330  0.5390  0.1920    84.008   \n",
       "1     0.416      0.854      0.893  ...   0.965  0.7830  0.3770   119.032   \n",
       "2     0.234      0.936      0.995  ...   0.579  0.0475  0.0945    84.010   \n",
       "3     0.826      0.818      0.629  ...   0.624  0.3840  0.6510   100.053   \n",
       "4     0.784      0.827      0.737  ...   0.840  0.6650  0.5200   128.041   \n",
       "\n",
       "   t_tempo1  t_tempo2  t_sig0  t_sig1  t_sig2  popularity  \n",
       "0   187.910    84.002     4.0     3.0     4.0          21  \n",
       "1   128.002   181.241     4.0     4.0     4.0          14  \n",
       "2   127.755    99.284     4.0     4.0     4.0          41  \n",
       "3    99.999    95.017     4.0     4.0     4.0           1  \n",
       "4   132.013   135.969     4.0     4.0     4.0          47  \n",
       "\n",
       "[5 rows x 39 columns]"
      ]
     },
     "execution_count": 63,
     "metadata": {},
     "output_type": "execute_result"
    }
   ],
   "source": [
    "# putting all numeric values into one continous column, as seen below\n",
    "df = df.select_dtypes(include = ['int64','float64'])\n",
    "df.head()"
   ]
  },
  {
   "cell_type": "markdown",
   "id": "b1e90efd",
   "metadata": {},
   "source": [
    "Ser om data-settet har noen manglende verdier, som du kan se under er det tilsynnelatende ingen manglende verdier\n",
    "i data-settet vårt."
   ]
  },
  {
   "cell_type": "code",
   "execution_count": 64,
   "id": "f056c95c",
   "metadata": {},
   "outputs": [
    {
     "data": {
      "text/plain": [
       "id              0\n",
       "total_tracks    0\n",
       "t_dur0          0\n",
       "t_dur1          0\n",
       "t_dur2          0\n",
       "t_dance0        0\n",
       "t_dance1        0\n",
       "t_dance2        0\n",
       "t_energy0       0\n",
       "t_energy1       0\n",
       "t_energy2       0\n",
       "t_key0          0\n",
       "t_key1          0\n",
       "t_key2          0\n",
       "t_mode0         0\n",
       "t_mode1         0\n",
       "t_mode2         0\n",
       "t_speech0       0\n",
       "t_speech1       0\n",
       "t_speech2       0\n",
       "t_acous0        0\n",
       "t_acous1        0\n",
       "t_acous2        0\n",
       "t_ins0          0\n",
       "t_ins1          0\n",
       "t_ins2          0\n",
       "t_live0         0\n",
       "t_live1         0\n",
       "t_live2         0\n",
       "t_val0          0\n",
       "t_val1          0\n",
       "t_val2          0\n",
       "t_tempo0        0\n",
       "t_tempo1        0\n",
       "t_tempo2        0\n",
       "t_sig0          0\n",
       "t_sig1          0\n",
       "t_sig2          0\n",
       "popularity      0\n",
       "dtype: int64"
      ]
     },
     "execution_count": 64,
     "metadata": {},
     "output_type": "execute_result"
    }
   ],
   "source": [
    " df.isnull().sum()"
   ]
  },
  {
   "cell_type": "code",
   "execution_count": 65,
   "id": "675560af",
   "metadata": {},
   "outputs": [
    {
     "data": {
      "text/plain": [
       "0"
      ]
     },
     "execution_count": 65,
     "metadata": {},
     "output_type": "execute_result"
    }
   ],
   "source": [
    "sum(df.duplicated(df.columns))"
   ]
  },
  {
   "cell_type": "raw",
   "id": "1336dfb0",
   "metadata": {},
   "source": [
    "Her ser vi på den parvisse korrelasjonen til alle kolononene i data-setet ved å bruke df.corr(). Her ser vi på hva slags korrelasjon de forskjellige featurene har til target variablen vår(popularity), videre ser vi etter positive verdier som vil indekere at de har en viss grad korrelasjon til popularity. Her valgte vi å å gå videre med t_dance, t_energy, t_tempo og t_val som featurene vi ville bruke på grunnlag av at de hadde positive verdier og relativt høye verdier i forhold til andre attributene i datasetet. "
   ]
  },
  {
   "cell_type": "code",
   "execution_count": 66,
   "id": "4e02da38",
   "metadata": {},
   "outputs": [
    {
     "data": {
      "text/html": [
       "<div>\n",
       "<style scoped>\n",
       "    .dataframe tbody tr th:only-of-type {\n",
       "        vertical-align: middle;\n",
       "    }\n",
       "\n",
       "    .dataframe tbody tr th {\n",
       "        vertical-align: top;\n",
       "    }\n",
       "\n",
       "    .dataframe thead th {\n",
       "        text-align: right;\n",
       "    }\n",
       "</style>\n",
       "<table border=\"1\" class=\"dataframe\">\n",
       "  <thead>\n",
       "    <tr style=\"text-align: right;\">\n",
       "      <th></th>\n",
       "      <th>id</th>\n",
       "      <th>total_tracks</th>\n",
       "      <th>t_dur0</th>\n",
       "      <th>t_dur1</th>\n",
       "      <th>t_dur2</th>\n",
       "      <th>t_dance0</th>\n",
       "      <th>t_dance1</th>\n",
       "      <th>t_dance2</th>\n",
       "      <th>t_energy0</th>\n",
       "      <th>t_energy1</th>\n",
       "      <th>...</th>\n",
       "      <th>t_val0</th>\n",
       "      <th>t_val1</th>\n",
       "      <th>t_val2</th>\n",
       "      <th>t_tempo0</th>\n",
       "      <th>t_tempo1</th>\n",
       "      <th>t_tempo2</th>\n",
       "      <th>t_sig0</th>\n",
       "      <th>t_sig1</th>\n",
       "      <th>t_sig2</th>\n",
       "      <th>popularity</th>\n",
       "    </tr>\n",
       "  </thead>\n",
       "  <tbody>\n",
       "    <tr>\n",
       "      <th>id</th>\n",
       "      <td>1.000000</td>\n",
       "      <td>-0.027754</td>\n",
       "      <td>0.008656</td>\n",
       "      <td>0.036968</td>\n",
       "      <td>0.031504</td>\n",
       "      <td>-0.026355</td>\n",
       "      <td>-0.001789</td>\n",
       "      <td>0.000681</td>\n",
       "      <td>-0.019916</td>\n",
       "      <td>-0.004064</td>\n",
       "      <td>...</td>\n",
       "      <td>0.008431</td>\n",
       "      <td>0.015156</td>\n",
       "      <td>0.032852</td>\n",
       "      <td>-0.001297</td>\n",
       "      <td>0.000617</td>\n",
       "      <td>0.002262</td>\n",
       "      <td>-0.041879</td>\n",
       "      <td>-0.003614</td>\n",
       "      <td>0.017398</td>\n",
       "      <td>-0.253561</td>\n",
       "    </tr>\n",
       "    <tr>\n",
       "      <th>total_tracks</th>\n",
       "      <td>-0.027754</td>\n",
       "      <td>1.000000</td>\n",
       "      <td>-0.062516</td>\n",
       "      <td>0.019867</td>\n",
       "      <td>-0.015322</td>\n",
       "      <td>-0.059260</td>\n",
       "      <td>-0.059348</td>\n",
       "      <td>-0.054281</td>\n",
       "      <td>-0.075200</td>\n",
       "      <td>-0.061076</td>\n",
       "      <td>...</td>\n",
       "      <td>0.023836</td>\n",
       "      <td>0.015051</td>\n",
       "      <td>0.024551</td>\n",
       "      <td>0.016933</td>\n",
       "      <td>-0.048845</td>\n",
       "      <td>-0.019779</td>\n",
       "      <td>-0.063627</td>\n",
       "      <td>-0.058912</td>\n",
       "      <td>0.004617</td>\n",
       "      <td>0.055853</td>\n",
       "    </tr>\n",
       "    <tr>\n",
       "      <th>t_dur0</th>\n",
       "      <td>0.008656</td>\n",
       "      <td>-0.062516</td>\n",
       "      <td>1.000000</td>\n",
       "      <td>0.488271</td>\n",
       "      <td>0.466070</td>\n",
       "      <td>-0.122604</td>\n",
       "      <td>-0.171823</td>\n",
       "      <td>-0.185570</td>\n",
       "      <td>-0.001110</td>\n",
       "      <td>-0.070526</td>\n",
       "      <td>...</td>\n",
       "      <td>-0.086551</td>\n",
       "      <td>-0.107600</td>\n",
       "      <td>-0.106250</td>\n",
       "      <td>0.007964</td>\n",
       "      <td>-0.032638</td>\n",
       "      <td>-0.029588</td>\n",
       "      <td>0.050840</td>\n",
       "      <td>-0.037578</td>\n",
       "      <td>-0.029837</td>\n",
       "      <td>-0.052885</td>\n",
       "    </tr>\n",
       "    <tr>\n",
       "      <th>t_dur1</th>\n",
       "      <td>0.036968</td>\n",
       "      <td>0.019867</td>\n",
       "      <td>0.488271</td>\n",
       "      <td>1.000000</td>\n",
       "      <td>0.733632</td>\n",
       "      <td>-0.105042</td>\n",
       "      <td>-0.123532</td>\n",
       "      <td>-0.118182</td>\n",
       "      <td>-0.020909</td>\n",
       "      <td>-0.020909</td>\n",
       "      <td>...</td>\n",
       "      <td>-0.049024</td>\n",
       "      <td>-0.084869</td>\n",
       "      <td>-0.064974</td>\n",
       "      <td>-0.011106</td>\n",
       "      <td>-0.013197</td>\n",
       "      <td>-0.039309</td>\n",
       "      <td>0.021285</td>\n",
       "      <td>0.005725</td>\n",
       "      <td>0.000070</td>\n",
       "      <td>-0.046058</td>\n",
       "    </tr>\n",
       "    <tr>\n",
       "      <th>t_dur2</th>\n",
       "      <td>0.031504</td>\n",
       "      <td>-0.015322</td>\n",
       "      <td>0.466070</td>\n",
       "      <td>0.733632</td>\n",
       "      <td>1.000000</td>\n",
       "      <td>-0.109994</td>\n",
       "      <td>-0.129735</td>\n",
       "      <td>-0.155260</td>\n",
       "      <td>-0.017992</td>\n",
       "      <td>-0.013709</td>\n",
       "      <td>...</td>\n",
       "      <td>-0.057442</td>\n",
       "      <td>-0.069139</td>\n",
       "      <td>-0.115064</td>\n",
       "      <td>-0.004348</td>\n",
       "      <td>-0.012784</td>\n",
       "      <td>-0.039324</td>\n",
       "      <td>0.012222</td>\n",
       "      <td>0.001833</td>\n",
       "      <td>0.006489</td>\n",
       "      <td>-0.056048</td>\n",
       "    </tr>\n",
       "    <tr>\n",
       "      <th>t_dance0</th>\n",
       "      <td>-0.026355</td>\n",
       "      <td>-0.059260</td>\n",
       "      <td>-0.122604</td>\n",
       "      <td>-0.105042</td>\n",
       "      <td>-0.109994</td>\n",
       "      <td>1.000000</td>\n",
       "      <td>0.631541</td>\n",
       "      <td>0.605970</td>\n",
       "      <td>0.177335</td>\n",
       "      <td>0.131038</td>\n",
       "      <td>...</td>\n",
       "      <td>0.480693</td>\n",
       "      <td>0.326735</td>\n",
       "      <td>0.312633</td>\n",
       "      <td>0.080757</td>\n",
       "      <td>0.050089</td>\n",
       "      <td>0.063301</td>\n",
       "      <td>0.229628</td>\n",
       "      <td>0.131708</td>\n",
       "      <td>0.132268</td>\n",
       "      <td>-0.006613</td>\n",
       "    </tr>\n",
       "    <tr>\n",
       "      <th>t_dance1</th>\n",
       "      <td>-0.001789</td>\n",
       "      <td>-0.059348</td>\n",
       "      <td>-0.171823</td>\n",
       "      <td>-0.123532</td>\n",
       "      <td>-0.129735</td>\n",
       "      <td>0.631541</td>\n",
       "      <td>1.000000</td>\n",
       "      <td>0.649472</td>\n",
       "      <td>0.128732</td>\n",
       "      <td>0.178725</td>\n",
       "      <td>...</td>\n",
       "      <td>0.313391</td>\n",
       "      <td>0.458649</td>\n",
       "      <td>0.305252</td>\n",
       "      <td>0.063958</td>\n",
       "      <td>-0.012048</td>\n",
       "      <td>0.040317</td>\n",
       "      <td>0.084748</td>\n",
       "      <td>0.210627</td>\n",
       "      <td>0.179532</td>\n",
       "      <td>0.021690</td>\n",
       "    </tr>\n",
       "    <tr>\n",
       "      <th>t_dance2</th>\n",
       "      <td>0.000681</td>\n",
       "      <td>-0.054281</td>\n",
       "      <td>-0.185570</td>\n",
       "      <td>-0.118182</td>\n",
       "      <td>-0.155260</td>\n",
       "      <td>0.605970</td>\n",
       "      <td>0.649472</td>\n",
       "      <td>1.000000</td>\n",
       "      <td>0.138564</td>\n",
       "      <td>0.173243</td>\n",
       "      <td>...</td>\n",
       "      <td>0.308151</td>\n",
       "      <td>0.330936</td>\n",
       "      <td>0.480709</td>\n",
       "      <td>0.065594</td>\n",
       "      <td>0.063653</td>\n",
       "      <td>-0.000050</td>\n",
       "      <td>0.064625</td>\n",
       "      <td>0.138909</td>\n",
       "      <td>0.221097</td>\n",
       "      <td>0.050331</td>\n",
       "    </tr>\n",
       "    <tr>\n",
       "      <th>t_energy0</th>\n",
       "      <td>-0.019916</td>\n",
       "      <td>-0.075200</td>\n",
       "      <td>-0.001110</td>\n",
       "      <td>-0.020909</td>\n",
       "      <td>-0.017992</td>\n",
       "      <td>0.177335</td>\n",
       "      <td>0.128732</td>\n",
       "      <td>0.138564</td>\n",
       "      <td>1.000000</td>\n",
       "      <td>0.697616</td>\n",
       "      <td>...</td>\n",
       "      <td>0.334330</td>\n",
       "      <td>0.237767</td>\n",
       "      <td>0.254437</td>\n",
       "      <td>0.205279</td>\n",
       "      <td>0.141527</td>\n",
       "      <td>0.148943</td>\n",
       "      <td>0.168552</td>\n",
       "      <td>0.115615</td>\n",
       "      <td>0.091517</td>\n",
       "      <td>0.066504</td>\n",
       "    </tr>\n",
       "    <tr>\n",
       "      <th>t_energy1</th>\n",
       "      <td>-0.004064</td>\n",
       "      <td>-0.061076</td>\n",
       "      <td>-0.070526</td>\n",
       "      <td>-0.020909</td>\n",
       "      <td>-0.013709</td>\n",
       "      <td>0.131038</td>\n",
       "      <td>0.178725</td>\n",
       "      <td>0.173243</td>\n",
       "      <td>0.697616</td>\n",
       "      <td>1.000000</td>\n",
       "      <td>...</td>\n",
       "      <td>0.210205</td>\n",
       "      <td>0.343170</td>\n",
       "      <td>0.237026</td>\n",
       "      <td>0.131163</td>\n",
       "      <td>0.211754</td>\n",
       "      <td>0.141669</td>\n",
       "      <td>0.085729</td>\n",
       "      <td>0.164737</td>\n",
       "      <td>0.110830</td>\n",
       "      <td>0.107671</td>\n",
       "    </tr>\n",
       "    <tr>\n",
       "      <th>t_energy2</th>\n",
       "      <td>-0.005775</td>\n",
       "      <td>-0.067875</td>\n",
       "      <td>-0.065408</td>\n",
       "      <td>-0.019729</td>\n",
       "      <td>-0.012496</td>\n",
       "      <td>0.128307</td>\n",
       "      <td>0.141807</td>\n",
       "      <td>0.205005</td>\n",
       "      <td>0.671110</td>\n",
       "      <td>0.711301</td>\n",
       "      <td>...</td>\n",
       "      <td>0.198248</td>\n",
       "      <td>0.198646</td>\n",
       "      <td>0.368321</td>\n",
       "      <td>0.104095</td>\n",
       "      <td>0.152541</td>\n",
       "      <td>0.203086</td>\n",
       "      <td>0.098141</td>\n",
       "      <td>0.104579</td>\n",
       "      <td>0.141164</td>\n",
       "      <td>0.093372</td>\n",
       "    </tr>\n",
       "    <tr>\n",
       "      <th>t_key0</th>\n",
       "      <td>0.008882</td>\n",
       "      <td>0.008447</td>\n",
       "      <td>-0.000223</td>\n",
       "      <td>-0.020565</td>\n",
       "      <td>-0.020899</td>\n",
       "      <td>0.031269</td>\n",
       "      <td>-0.006270</td>\n",
       "      <td>0.027378</td>\n",
       "      <td>0.011031</td>\n",
       "      <td>0.039065</td>\n",
       "      <td>...</td>\n",
       "      <td>0.074493</td>\n",
       "      <td>0.066491</td>\n",
       "      <td>0.041011</td>\n",
       "      <td>-0.019461</td>\n",
       "      <td>0.018508</td>\n",
       "      <td>0.003660</td>\n",
       "      <td>0.036774</td>\n",
       "      <td>-0.002984</td>\n",
       "      <td>-0.014191</td>\n",
       "      <td>0.016224</td>\n",
       "    </tr>\n",
       "    <tr>\n",
       "      <th>t_key1</th>\n",
       "      <td>0.015964</td>\n",
       "      <td>0.010330</td>\n",
       "      <td>0.031814</td>\n",
       "      <td>0.037907</td>\n",
       "      <td>0.023454</td>\n",
       "      <td>-0.008146</td>\n",
       "      <td>0.021058</td>\n",
       "      <td>0.018022</td>\n",
       "      <td>0.031106</td>\n",
       "      <td>0.016477</td>\n",
       "      <td>...</td>\n",
       "      <td>0.016597</td>\n",
       "      <td>0.078613</td>\n",
       "      <td>0.039942</td>\n",
       "      <td>-0.018198</td>\n",
       "      <td>0.003388</td>\n",
       "      <td>-0.013157</td>\n",
       "      <td>-0.000513</td>\n",
       "      <td>0.026408</td>\n",
       "      <td>-0.030821</td>\n",
       "      <td>-0.044422</td>\n",
       "    </tr>\n",
       "    <tr>\n",
       "      <th>t_key2</th>\n",
       "      <td>-0.002450</td>\n",
       "      <td>0.013653</td>\n",
       "      <td>0.007819</td>\n",
       "      <td>0.018884</td>\n",
       "      <td>0.023935</td>\n",
       "      <td>0.031513</td>\n",
       "      <td>0.003994</td>\n",
       "      <td>0.028007</td>\n",
       "      <td>0.009031</td>\n",
       "      <td>-0.006676</td>\n",
       "      <td>...</td>\n",
       "      <td>0.024119</td>\n",
       "      <td>0.021805</td>\n",
       "      <td>0.018454</td>\n",
       "      <td>-0.013218</td>\n",
       "      <td>-0.009461</td>\n",
       "      <td>-0.023738</td>\n",
       "      <td>0.006391</td>\n",
       "      <td>-0.002641</td>\n",
       "      <td>0.037053</td>\n",
       "      <td>0.013449</td>\n",
       "    </tr>\n",
       "    <tr>\n",
       "      <th>t_mode0</th>\n",
       "      <td>-0.020906</td>\n",
       "      <td>-0.007838</td>\n",
       "      <td>-0.034515</td>\n",
       "      <td>-0.039974</td>\n",
       "      <td>-0.040471</td>\n",
       "      <td>-0.048495</td>\n",
       "      <td>-0.034978</td>\n",
       "      <td>-0.037998</td>\n",
       "      <td>-0.049784</td>\n",
       "      <td>-0.054011</td>\n",
       "      <td>...</td>\n",
       "      <td>0.008798</td>\n",
       "      <td>0.026503</td>\n",
       "      <td>0.013715</td>\n",
       "      <td>0.000351</td>\n",
       "      <td>0.065083</td>\n",
       "      <td>0.008132</td>\n",
       "      <td>-0.023677</td>\n",
       "      <td>-0.043934</td>\n",
       "      <td>-0.010100</td>\n",
       "      <td>0.028030</td>\n",
       "    </tr>\n",
       "    <tr>\n",
       "      <th>t_mode1</th>\n",
       "      <td>-0.013424</td>\n",
       "      <td>-0.002657</td>\n",
       "      <td>-0.000891</td>\n",
       "      <td>0.004917</td>\n",
       "      <td>-0.011107</td>\n",
       "      <td>-0.046118</td>\n",
       "      <td>-0.068349</td>\n",
       "      <td>-0.066579</td>\n",
       "      <td>-0.044425</td>\n",
       "      <td>-0.061080</td>\n",
       "      <td>...</td>\n",
       "      <td>0.029859</td>\n",
       "      <td>-0.021082</td>\n",
       "      <td>-0.011257</td>\n",
       "      <td>-0.003785</td>\n",
       "      <td>0.034270</td>\n",
       "      <td>0.019162</td>\n",
       "      <td>0.002605</td>\n",
       "      <td>-0.019285</td>\n",
       "      <td>-0.037892</td>\n",
       "      <td>0.054649</td>\n",
       "    </tr>\n",
       "    <tr>\n",
       "      <th>t_mode2</th>\n",
       "      <td>-0.017096</td>\n",
       "      <td>0.004940</td>\n",
       "      <td>-0.011621</td>\n",
       "      <td>-0.007190</td>\n",
       "      <td>-0.006295</td>\n",
       "      <td>-0.062179</td>\n",
       "      <td>-0.050152</td>\n",
       "      <td>-0.083720</td>\n",
       "      <td>-0.029386</td>\n",
       "      <td>-0.037359</td>\n",
       "      <td>...</td>\n",
       "      <td>0.017874</td>\n",
       "      <td>0.024241</td>\n",
       "      <td>-0.015861</td>\n",
       "      <td>-0.021162</td>\n",
       "      <td>0.005231</td>\n",
       "      <td>0.006481</td>\n",
       "      <td>-0.023418</td>\n",
       "      <td>-0.035448</td>\n",
       "      <td>-0.056496</td>\n",
       "      <td>0.013059</td>\n",
       "    </tr>\n",
       "    <tr>\n",
       "      <th>t_speech0</th>\n",
       "      <td>0.006743</td>\n",
       "      <td>0.115617</td>\n",
       "      <td>-0.124429</td>\n",
       "      <td>-0.076915</td>\n",
       "      <td>-0.088213</td>\n",
       "      <td>0.211470</td>\n",
       "      <td>0.222326</td>\n",
       "      <td>0.227547</td>\n",
       "      <td>0.007443</td>\n",
       "      <td>0.055180</td>\n",
       "      <td>...</td>\n",
       "      <td>0.070045</td>\n",
       "      <td>0.032928</td>\n",
       "      <td>0.051861</td>\n",
       "      <td>-0.000772</td>\n",
       "      <td>-0.017360</td>\n",
       "      <td>0.002596</td>\n",
       "      <td>-0.000936</td>\n",
       "      <td>0.030646</td>\n",
       "      <td>0.045064</td>\n",
       "      <td>-0.080305</td>\n",
       "    </tr>\n",
       "    <tr>\n",
       "      <th>t_speech1</th>\n",
       "      <td>0.009544</td>\n",
       "      <td>0.117793</td>\n",
       "      <td>-0.080407</td>\n",
       "      <td>-0.077097</td>\n",
       "      <td>-0.086134</td>\n",
       "      <td>0.188501</td>\n",
       "      <td>0.220044</td>\n",
       "      <td>0.230955</td>\n",
       "      <td>-0.006649</td>\n",
       "      <td>0.055172</td>\n",
       "      <td>...</td>\n",
       "      <td>0.014714</td>\n",
       "      <td>0.038481</td>\n",
       "      <td>0.025981</td>\n",
       "      <td>-0.061001</td>\n",
       "      <td>0.018588</td>\n",
       "      <td>-0.002677</td>\n",
       "      <td>-0.043806</td>\n",
       "      <td>0.018614</td>\n",
       "      <td>0.071016</td>\n",
       "      <td>-0.126392</td>\n",
       "    </tr>\n",
       "    <tr>\n",
       "      <th>t_speech2</th>\n",
       "      <td>0.018900</td>\n",
       "      <td>0.136216</td>\n",
       "      <td>-0.084466</td>\n",
       "      <td>-0.077504</td>\n",
       "      <td>-0.136652</td>\n",
       "      <td>0.163185</td>\n",
       "      <td>0.190729</td>\n",
       "      <td>0.221250</td>\n",
       "      <td>-0.021448</td>\n",
       "      <td>0.041286</td>\n",
       "      <td>...</td>\n",
       "      <td>0.010999</td>\n",
       "      <td>0.000122</td>\n",
       "      <td>0.049534</td>\n",
       "      <td>-0.056397</td>\n",
       "      <td>-0.048801</td>\n",
       "      <td>0.049976</td>\n",
       "      <td>-0.028677</td>\n",
       "      <td>0.000274</td>\n",
       "      <td>0.051900</td>\n",
       "      <td>-0.105396</td>\n",
       "    </tr>\n",
       "    <tr>\n",
       "      <th>t_acous0</th>\n",
       "      <td>0.059529</td>\n",
       "      <td>0.082319</td>\n",
       "      <td>0.002626</td>\n",
       "      <td>0.036478</td>\n",
       "      <td>0.011486</td>\n",
       "      <td>-0.253235</td>\n",
       "      <td>-0.178815</td>\n",
       "      <td>-0.184349</td>\n",
       "      <td>-0.658399</td>\n",
       "      <td>-0.519451</td>\n",
       "      <td>...</td>\n",
       "      <td>-0.166828</td>\n",
       "      <td>-0.130316</td>\n",
       "      <td>-0.130818</td>\n",
       "      <td>-0.176477</td>\n",
       "      <td>-0.120213</td>\n",
       "      <td>-0.120984</td>\n",
       "      <td>-0.155613</td>\n",
       "      <td>-0.092511</td>\n",
       "      <td>-0.083162</td>\n",
       "      <td>-0.048651</td>\n",
       "    </tr>\n",
       "    <tr>\n",
       "      <th>t_acous1</th>\n",
       "      <td>0.022297</td>\n",
       "      <td>0.080573</td>\n",
       "      <td>0.101183</td>\n",
       "      <td>0.052498</td>\n",
       "      <td>0.037938</td>\n",
       "      <td>-0.197331</td>\n",
       "      <td>-0.243411</td>\n",
       "      <td>-0.226366</td>\n",
       "      <td>-0.535453</td>\n",
       "      <td>-0.663565</td>\n",
       "      <td>...</td>\n",
       "      <td>-0.102562</td>\n",
       "      <td>-0.171582</td>\n",
       "      <td>-0.137691</td>\n",
       "      <td>-0.136059</td>\n",
       "      <td>-0.158270</td>\n",
       "      <td>-0.127455</td>\n",
       "      <td>-0.094888</td>\n",
       "      <td>-0.169178</td>\n",
       "      <td>-0.108209</td>\n",
       "      <td>-0.059171</td>\n",
       "    </tr>\n",
       "    <tr>\n",
       "      <th>t_acous2</th>\n",
       "      <td>0.047911</td>\n",
       "      <td>0.075009</td>\n",
       "      <td>0.096922</td>\n",
       "      <td>0.060266</td>\n",
       "      <td>0.020221</td>\n",
       "      <td>-0.203174</td>\n",
       "      <td>-0.220432</td>\n",
       "      <td>-0.265433</td>\n",
       "      <td>-0.492847</td>\n",
       "      <td>-0.526710</td>\n",
       "      <td>...</td>\n",
       "      <td>-0.096198</td>\n",
       "      <td>-0.116876</td>\n",
       "      <td>-0.185639</td>\n",
       "      <td>-0.102025</td>\n",
       "      <td>-0.133889</td>\n",
       "      <td>-0.164164</td>\n",
       "      <td>-0.097268</td>\n",
       "      <td>-0.135130</td>\n",
       "      <td>-0.132691</td>\n",
       "      <td>-0.069969</td>\n",
       "    </tr>\n",
       "    <tr>\n",
       "      <th>t_ins0</th>\n",
       "      <td>0.057373</td>\n",
       "      <td>0.026069</td>\n",
       "      <td>0.050895</td>\n",
       "      <td>0.043019</td>\n",
       "      <td>0.063619</td>\n",
       "      <td>-0.266484</td>\n",
       "      <td>-0.268307</td>\n",
       "      <td>-0.279984</td>\n",
       "      <td>-0.287067</td>\n",
       "      <td>-0.289707</td>\n",
       "      <td>...</td>\n",
       "      <td>-0.307174</td>\n",
       "      <td>-0.281333</td>\n",
       "      <td>-0.293833</td>\n",
       "      <td>-0.048332</td>\n",
       "      <td>-0.062695</td>\n",
       "      <td>-0.035208</td>\n",
       "      <td>-0.055283</td>\n",
       "      <td>-0.087470</td>\n",
       "      <td>-0.084304</td>\n",
       "      <td>-0.151640</td>\n",
       "    </tr>\n",
       "    <tr>\n",
       "      <th>t_ins1</th>\n",
       "      <td>0.063844</td>\n",
       "      <td>0.025562</td>\n",
       "      <td>0.083471</td>\n",
       "      <td>0.054749</td>\n",
       "      <td>0.078292</td>\n",
       "      <td>-0.222790</td>\n",
       "      <td>-0.259359</td>\n",
       "      <td>-0.271639</td>\n",
       "      <td>-0.274864</td>\n",
       "      <td>-0.311633</td>\n",
       "      <td>...</td>\n",
       "      <td>-0.260439</td>\n",
       "      <td>-0.277956</td>\n",
       "      <td>-0.288993</td>\n",
       "      <td>-0.058214</td>\n",
       "      <td>-0.068699</td>\n",
       "      <td>-0.056013</td>\n",
       "      <td>-0.071227</td>\n",
       "      <td>-0.085161</td>\n",
       "      <td>-0.082490</td>\n",
       "      <td>-0.186636</td>\n",
       "    </tr>\n",
       "    <tr>\n",
       "      <th>t_ins2</th>\n",
       "      <td>0.056743</td>\n",
       "      <td>0.017757</td>\n",
       "      <td>0.073200</td>\n",
       "      <td>0.044116</td>\n",
       "      <td>0.067123</td>\n",
       "      <td>-0.216136</td>\n",
       "      <td>-0.258962</td>\n",
       "      <td>-0.282799</td>\n",
       "      <td>-0.230657</td>\n",
       "      <td>-0.303215</td>\n",
       "      <td>...</td>\n",
       "      <td>-0.255181</td>\n",
       "      <td>-0.284384</td>\n",
       "      <td>-0.308335</td>\n",
       "      <td>-0.045825</td>\n",
       "      <td>-0.068340</td>\n",
       "      <td>-0.032385</td>\n",
       "      <td>-0.064737</td>\n",
       "      <td>-0.067539</td>\n",
       "      <td>-0.052889</td>\n",
       "      <td>-0.166684</td>\n",
       "    </tr>\n",
       "    <tr>\n",
       "      <th>t_live0</th>\n",
       "      <td>0.019339</td>\n",
       "      <td>0.046025</td>\n",
       "      <td>-0.015607</td>\n",
       "      <td>0.016670</td>\n",
       "      <td>0.000256</td>\n",
       "      <td>-0.161330</td>\n",
       "      <td>-0.103836</td>\n",
       "      <td>-0.081138</td>\n",
       "      <td>0.151989</td>\n",
       "      <td>0.154356</td>\n",
       "      <td>...</td>\n",
       "      <td>-0.002112</td>\n",
       "      <td>-0.007637</td>\n",
       "      <td>0.003455</td>\n",
       "      <td>-0.029164</td>\n",
       "      <td>-0.011681</td>\n",
       "      <td>0.017103</td>\n",
       "      <td>-0.056589</td>\n",
       "      <td>-0.028854</td>\n",
       "      <td>-0.017873</td>\n",
       "      <td>-0.008555</td>\n",
       "    </tr>\n",
       "    <tr>\n",
       "      <th>t_live1</th>\n",
       "      <td>0.011344</td>\n",
       "      <td>0.009020</td>\n",
       "      <td>0.027745</td>\n",
       "      <td>0.022773</td>\n",
       "      <td>0.029398</td>\n",
       "      <td>-0.110871</td>\n",
       "      <td>-0.144144</td>\n",
       "      <td>-0.087104</td>\n",
       "      <td>0.130868</td>\n",
       "      <td>0.179993</td>\n",
       "      <td>...</td>\n",
       "      <td>0.000864</td>\n",
       "      <td>-0.018212</td>\n",
       "      <td>-0.001971</td>\n",
       "      <td>-0.024245</td>\n",
       "      <td>0.021277</td>\n",
       "      <td>0.030659</td>\n",
       "      <td>-0.011839</td>\n",
       "      <td>-0.023631</td>\n",
       "      <td>-0.028591</td>\n",
       "      <td>-0.003397</td>\n",
       "    </tr>\n",
       "    <tr>\n",
       "      <th>t_live2</th>\n",
       "      <td>-0.014316</td>\n",
       "      <td>0.039200</td>\n",
       "      <td>0.009643</td>\n",
       "      <td>0.020477</td>\n",
       "      <td>0.009819</td>\n",
       "      <td>-0.114729</td>\n",
       "      <td>-0.124050</td>\n",
       "      <td>-0.133064</td>\n",
       "      <td>0.098530</td>\n",
       "      <td>0.126992</td>\n",
       "      <td>...</td>\n",
       "      <td>-0.015719</td>\n",
       "      <td>-0.016832</td>\n",
       "      <td>0.007169</td>\n",
       "      <td>-0.048545</td>\n",
       "      <td>-0.015080</td>\n",
       "      <td>0.009493</td>\n",
       "      <td>0.000505</td>\n",
       "      <td>-0.049491</td>\n",
       "      <td>-0.035314</td>\n",
       "      <td>-0.004939</td>\n",
       "    </tr>\n",
       "    <tr>\n",
       "      <th>t_val0</th>\n",
       "      <td>0.008431</td>\n",
       "      <td>0.023836</td>\n",
       "      <td>-0.086551</td>\n",
       "      <td>-0.049024</td>\n",
       "      <td>-0.057442</td>\n",
       "      <td>0.480693</td>\n",
       "      <td>0.313391</td>\n",
       "      <td>0.308151</td>\n",
       "      <td>0.334330</td>\n",
       "      <td>0.210205</td>\n",
       "      <td>...</td>\n",
       "      <td>1.000000</td>\n",
       "      <td>0.528432</td>\n",
       "      <td>0.507412</td>\n",
       "      <td>0.118455</td>\n",
       "      <td>0.045431</td>\n",
       "      <td>0.037085</td>\n",
       "      <td>0.114688</td>\n",
       "      <td>0.056437</td>\n",
       "      <td>0.053050</td>\n",
       "      <td>0.017540</td>\n",
       "    </tr>\n",
       "    <tr>\n",
       "      <th>t_val1</th>\n",
       "      <td>0.015156</td>\n",
       "      <td>0.015051</td>\n",
       "      <td>-0.107600</td>\n",
       "      <td>-0.084869</td>\n",
       "      <td>-0.069139</td>\n",
       "      <td>0.326735</td>\n",
       "      <td>0.458649</td>\n",
       "      <td>0.330936</td>\n",
       "      <td>0.237767</td>\n",
       "      <td>0.343170</td>\n",
       "      <td>...</td>\n",
       "      <td>0.528432</td>\n",
       "      <td>1.000000</td>\n",
       "      <td>0.493090</td>\n",
       "      <td>0.047214</td>\n",
       "      <td>0.124605</td>\n",
       "      <td>0.014671</td>\n",
       "      <td>0.037904</td>\n",
       "      <td>0.107084</td>\n",
       "      <td>0.077747</td>\n",
       "      <td>0.057493</td>\n",
       "    </tr>\n",
       "    <tr>\n",
       "      <th>t_val2</th>\n",
       "      <td>0.032852</td>\n",
       "      <td>0.024551</td>\n",
       "      <td>-0.106250</td>\n",
       "      <td>-0.064974</td>\n",
       "      <td>-0.115064</td>\n",
       "      <td>0.312633</td>\n",
       "      <td>0.305252</td>\n",
       "      <td>0.480709</td>\n",
       "      <td>0.254437</td>\n",
       "      <td>0.237026</td>\n",
       "      <td>...</td>\n",
       "      <td>0.507412</td>\n",
       "      <td>0.493090</td>\n",
       "      <td>1.000000</td>\n",
       "      <td>0.061390</td>\n",
       "      <td>0.062620</td>\n",
       "      <td>0.096186</td>\n",
       "      <td>0.041287</td>\n",
       "      <td>0.052842</td>\n",
       "      <td>0.102021</td>\n",
       "      <td>0.090917</td>\n",
       "    </tr>\n",
       "    <tr>\n",
       "      <th>t_tempo0</th>\n",
       "      <td>-0.001297</td>\n",
       "      <td>0.016933</td>\n",
       "      <td>0.007964</td>\n",
       "      <td>-0.011106</td>\n",
       "      <td>-0.004348</td>\n",
       "      <td>0.080757</td>\n",
       "      <td>0.063958</td>\n",
       "      <td>0.065594</td>\n",
       "      <td>0.205279</td>\n",
       "      <td>0.131163</td>\n",
       "      <td>...</td>\n",
       "      <td>0.118455</td>\n",
       "      <td>0.047214</td>\n",
       "      <td>0.061390</td>\n",
       "      <td>1.000000</td>\n",
       "      <td>0.118798</td>\n",
       "      <td>0.158603</td>\n",
       "      <td>0.149617</td>\n",
       "      <td>0.059835</td>\n",
       "      <td>0.030747</td>\n",
       "      <td>0.015832</td>\n",
       "    </tr>\n",
       "    <tr>\n",
       "      <th>t_tempo1</th>\n",
       "      <td>0.000617</td>\n",
       "      <td>-0.048845</td>\n",
       "      <td>-0.032638</td>\n",
       "      <td>-0.013197</td>\n",
       "      <td>-0.012784</td>\n",
       "      <td>0.050089</td>\n",
       "      <td>-0.012048</td>\n",
       "      <td>0.063653</td>\n",
       "      <td>0.141527</td>\n",
       "      <td>0.211754</td>\n",
       "      <td>...</td>\n",
       "      <td>0.045431</td>\n",
       "      <td>0.124605</td>\n",
       "      <td>0.062620</td>\n",
       "      <td>0.118798</td>\n",
       "      <td>1.000000</td>\n",
       "      <td>0.159612</td>\n",
       "      <td>0.039920</td>\n",
       "      <td>0.070538</td>\n",
       "      <td>0.049273</td>\n",
       "      <td>-0.008395</td>\n",
       "    </tr>\n",
       "    <tr>\n",
       "      <th>t_tempo2</th>\n",
       "      <td>0.002262</td>\n",
       "      <td>-0.019779</td>\n",
       "      <td>-0.029588</td>\n",
       "      <td>-0.039309</td>\n",
       "      <td>-0.039324</td>\n",
       "      <td>0.063301</td>\n",
       "      <td>0.040317</td>\n",
       "      <td>-0.000050</td>\n",
       "      <td>0.148943</td>\n",
       "      <td>0.141669</td>\n",
       "      <td>...</td>\n",
       "      <td>0.037085</td>\n",
       "      <td>0.014671</td>\n",
       "      <td>0.096186</td>\n",
       "      <td>0.158603</td>\n",
       "      <td>0.159612</td>\n",
       "      <td>1.000000</td>\n",
       "      <td>0.035779</td>\n",
       "      <td>0.040982</td>\n",
       "      <td>0.027944</td>\n",
       "      <td>0.003591</td>\n",
       "    </tr>\n",
       "    <tr>\n",
       "      <th>t_sig0</th>\n",
       "      <td>-0.041879</td>\n",
       "      <td>-0.063627</td>\n",
       "      <td>0.050840</td>\n",
       "      <td>0.021285</td>\n",
       "      <td>0.012222</td>\n",
       "      <td>0.229628</td>\n",
       "      <td>0.084748</td>\n",
       "      <td>0.064625</td>\n",
       "      <td>0.168552</td>\n",
       "      <td>0.085729</td>\n",
       "      <td>...</td>\n",
       "      <td>0.114688</td>\n",
       "      <td>0.037904</td>\n",
       "      <td>0.041287</td>\n",
       "      <td>0.149617</td>\n",
       "      <td>0.039920</td>\n",
       "      <td>0.035779</td>\n",
       "      <td>1.000000</td>\n",
       "      <td>0.158996</td>\n",
       "      <td>0.117083</td>\n",
       "      <td>-0.002679</td>\n",
       "    </tr>\n",
       "    <tr>\n",
       "      <th>t_sig1</th>\n",
       "      <td>-0.003614</td>\n",
       "      <td>-0.058912</td>\n",
       "      <td>-0.037578</td>\n",
       "      <td>0.005725</td>\n",
       "      <td>0.001833</td>\n",
       "      <td>0.131708</td>\n",
       "      <td>0.210627</td>\n",
       "      <td>0.138909</td>\n",
       "      <td>0.115615</td>\n",
       "      <td>0.164737</td>\n",
       "      <td>...</td>\n",
       "      <td>0.056437</td>\n",
       "      <td>0.107084</td>\n",
       "      <td>0.052842</td>\n",
       "      <td>0.059835</td>\n",
       "      <td>0.070538</td>\n",
       "      <td>0.040982</td>\n",
       "      <td>0.158996</td>\n",
       "      <td>1.000000</td>\n",
       "      <td>0.139105</td>\n",
       "      <td>-0.030158</td>\n",
       "    </tr>\n",
       "    <tr>\n",
       "      <th>t_sig2</th>\n",
       "      <td>0.017398</td>\n",
       "      <td>0.004617</td>\n",
       "      <td>-0.029837</td>\n",
       "      <td>0.000070</td>\n",
       "      <td>0.006489</td>\n",
       "      <td>0.132268</td>\n",
       "      <td>0.179532</td>\n",
       "      <td>0.221097</td>\n",
       "      <td>0.091517</td>\n",
       "      <td>0.110830</td>\n",
       "      <td>...</td>\n",
       "      <td>0.053050</td>\n",
       "      <td>0.077747</td>\n",
       "      <td>0.102021</td>\n",
       "      <td>0.030747</td>\n",
       "      <td>0.049273</td>\n",
       "      <td>0.027944</td>\n",
       "      <td>0.117083</td>\n",
       "      <td>0.139105</td>\n",
       "      <td>1.000000</td>\n",
       "      <td>-0.013513</td>\n",
       "    </tr>\n",
       "    <tr>\n",
       "      <th>popularity</th>\n",
       "      <td>-0.253561</td>\n",
       "      <td>0.055853</td>\n",
       "      <td>-0.052885</td>\n",
       "      <td>-0.046058</td>\n",
       "      <td>-0.056048</td>\n",
       "      <td>-0.006613</td>\n",
       "      <td>0.021690</td>\n",
       "      <td>0.050331</td>\n",
       "      <td>0.066504</td>\n",
       "      <td>0.107671</td>\n",
       "      <td>...</td>\n",
       "      <td>0.017540</td>\n",
       "      <td>0.057493</td>\n",
       "      <td>0.090917</td>\n",
       "      <td>0.015832</td>\n",
       "      <td>-0.008395</td>\n",
       "      <td>0.003591</td>\n",
       "      <td>-0.002679</td>\n",
       "      <td>-0.030158</td>\n",
       "      <td>-0.013513</td>\n",
       "      <td>1.000000</td>\n",
       "    </tr>\n",
       "  </tbody>\n",
       "</table>\n",
       "<p>39 rows × 39 columns</p>\n",
       "</div>"
      ],
      "text/plain": [
       "                    id  total_tracks    t_dur0    t_dur1    t_dur2  t_dance0  \\\n",
       "id            1.000000     -0.027754  0.008656  0.036968  0.031504 -0.026355   \n",
       "total_tracks -0.027754      1.000000 -0.062516  0.019867 -0.015322 -0.059260   \n",
       "t_dur0        0.008656     -0.062516  1.000000  0.488271  0.466070 -0.122604   \n",
       "t_dur1        0.036968      0.019867  0.488271  1.000000  0.733632 -0.105042   \n",
       "t_dur2        0.031504     -0.015322  0.466070  0.733632  1.000000 -0.109994   \n",
       "t_dance0     -0.026355     -0.059260 -0.122604 -0.105042 -0.109994  1.000000   \n",
       "t_dance1     -0.001789     -0.059348 -0.171823 -0.123532 -0.129735  0.631541   \n",
       "t_dance2      0.000681     -0.054281 -0.185570 -0.118182 -0.155260  0.605970   \n",
       "t_energy0    -0.019916     -0.075200 -0.001110 -0.020909 -0.017992  0.177335   \n",
       "t_energy1    -0.004064     -0.061076 -0.070526 -0.020909 -0.013709  0.131038   \n",
       "t_energy2    -0.005775     -0.067875 -0.065408 -0.019729 -0.012496  0.128307   \n",
       "t_key0        0.008882      0.008447 -0.000223 -0.020565 -0.020899  0.031269   \n",
       "t_key1        0.015964      0.010330  0.031814  0.037907  0.023454 -0.008146   \n",
       "t_key2       -0.002450      0.013653  0.007819  0.018884  0.023935  0.031513   \n",
       "t_mode0      -0.020906     -0.007838 -0.034515 -0.039974 -0.040471 -0.048495   \n",
       "t_mode1      -0.013424     -0.002657 -0.000891  0.004917 -0.011107 -0.046118   \n",
       "t_mode2      -0.017096      0.004940 -0.011621 -0.007190 -0.006295 -0.062179   \n",
       "t_speech0     0.006743      0.115617 -0.124429 -0.076915 -0.088213  0.211470   \n",
       "t_speech1     0.009544      0.117793 -0.080407 -0.077097 -0.086134  0.188501   \n",
       "t_speech2     0.018900      0.136216 -0.084466 -0.077504 -0.136652  0.163185   \n",
       "t_acous0      0.059529      0.082319  0.002626  0.036478  0.011486 -0.253235   \n",
       "t_acous1      0.022297      0.080573  0.101183  0.052498  0.037938 -0.197331   \n",
       "t_acous2      0.047911      0.075009  0.096922  0.060266  0.020221 -0.203174   \n",
       "t_ins0        0.057373      0.026069  0.050895  0.043019  0.063619 -0.266484   \n",
       "t_ins1        0.063844      0.025562  0.083471  0.054749  0.078292 -0.222790   \n",
       "t_ins2        0.056743      0.017757  0.073200  0.044116  0.067123 -0.216136   \n",
       "t_live0       0.019339      0.046025 -0.015607  0.016670  0.000256 -0.161330   \n",
       "t_live1       0.011344      0.009020  0.027745  0.022773  0.029398 -0.110871   \n",
       "t_live2      -0.014316      0.039200  0.009643  0.020477  0.009819 -0.114729   \n",
       "t_val0        0.008431      0.023836 -0.086551 -0.049024 -0.057442  0.480693   \n",
       "t_val1        0.015156      0.015051 -0.107600 -0.084869 -0.069139  0.326735   \n",
       "t_val2        0.032852      0.024551 -0.106250 -0.064974 -0.115064  0.312633   \n",
       "t_tempo0     -0.001297      0.016933  0.007964 -0.011106 -0.004348  0.080757   \n",
       "t_tempo1      0.000617     -0.048845 -0.032638 -0.013197 -0.012784  0.050089   \n",
       "t_tempo2      0.002262     -0.019779 -0.029588 -0.039309 -0.039324  0.063301   \n",
       "t_sig0       -0.041879     -0.063627  0.050840  0.021285  0.012222  0.229628   \n",
       "t_sig1       -0.003614     -0.058912 -0.037578  0.005725  0.001833  0.131708   \n",
       "t_sig2        0.017398      0.004617 -0.029837  0.000070  0.006489  0.132268   \n",
       "popularity   -0.253561      0.055853 -0.052885 -0.046058 -0.056048 -0.006613   \n",
       "\n",
       "              t_dance1  t_dance2  t_energy0  t_energy1  ...    t_val0  \\\n",
       "id           -0.001789  0.000681  -0.019916  -0.004064  ...  0.008431   \n",
       "total_tracks -0.059348 -0.054281  -0.075200  -0.061076  ...  0.023836   \n",
       "t_dur0       -0.171823 -0.185570  -0.001110  -0.070526  ... -0.086551   \n",
       "t_dur1       -0.123532 -0.118182  -0.020909  -0.020909  ... -0.049024   \n",
       "t_dur2       -0.129735 -0.155260  -0.017992  -0.013709  ... -0.057442   \n",
       "t_dance0      0.631541  0.605970   0.177335   0.131038  ...  0.480693   \n",
       "t_dance1      1.000000  0.649472   0.128732   0.178725  ...  0.313391   \n",
       "t_dance2      0.649472  1.000000   0.138564   0.173243  ...  0.308151   \n",
       "t_energy0     0.128732  0.138564   1.000000   0.697616  ...  0.334330   \n",
       "t_energy1     0.178725  0.173243   0.697616   1.000000  ...  0.210205   \n",
       "t_energy2     0.141807  0.205005   0.671110   0.711301  ...  0.198248   \n",
       "t_key0       -0.006270  0.027378   0.011031   0.039065  ...  0.074493   \n",
       "t_key1        0.021058  0.018022   0.031106   0.016477  ...  0.016597   \n",
       "t_key2        0.003994  0.028007   0.009031  -0.006676  ...  0.024119   \n",
       "t_mode0      -0.034978 -0.037998  -0.049784  -0.054011  ...  0.008798   \n",
       "t_mode1      -0.068349 -0.066579  -0.044425  -0.061080  ...  0.029859   \n",
       "t_mode2      -0.050152 -0.083720  -0.029386  -0.037359  ...  0.017874   \n",
       "t_speech0     0.222326  0.227547   0.007443   0.055180  ...  0.070045   \n",
       "t_speech1     0.220044  0.230955  -0.006649   0.055172  ...  0.014714   \n",
       "t_speech2     0.190729  0.221250  -0.021448   0.041286  ...  0.010999   \n",
       "t_acous0     -0.178815 -0.184349  -0.658399  -0.519451  ... -0.166828   \n",
       "t_acous1     -0.243411 -0.226366  -0.535453  -0.663565  ... -0.102562   \n",
       "t_acous2     -0.220432 -0.265433  -0.492847  -0.526710  ... -0.096198   \n",
       "t_ins0       -0.268307 -0.279984  -0.287067  -0.289707  ... -0.307174   \n",
       "t_ins1       -0.259359 -0.271639  -0.274864  -0.311633  ... -0.260439   \n",
       "t_ins2       -0.258962 -0.282799  -0.230657  -0.303215  ... -0.255181   \n",
       "t_live0      -0.103836 -0.081138   0.151989   0.154356  ... -0.002112   \n",
       "t_live1      -0.144144 -0.087104   0.130868   0.179993  ...  0.000864   \n",
       "t_live2      -0.124050 -0.133064   0.098530   0.126992  ... -0.015719   \n",
       "t_val0        0.313391  0.308151   0.334330   0.210205  ...  1.000000   \n",
       "t_val1        0.458649  0.330936   0.237767   0.343170  ...  0.528432   \n",
       "t_val2        0.305252  0.480709   0.254437   0.237026  ...  0.507412   \n",
       "t_tempo0      0.063958  0.065594   0.205279   0.131163  ...  0.118455   \n",
       "t_tempo1     -0.012048  0.063653   0.141527   0.211754  ...  0.045431   \n",
       "t_tempo2      0.040317 -0.000050   0.148943   0.141669  ...  0.037085   \n",
       "t_sig0        0.084748  0.064625   0.168552   0.085729  ...  0.114688   \n",
       "t_sig1        0.210627  0.138909   0.115615   0.164737  ...  0.056437   \n",
       "t_sig2        0.179532  0.221097   0.091517   0.110830  ...  0.053050   \n",
       "popularity    0.021690  0.050331   0.066504   0.107671  ...  0.017540   \n",
       "\n",
       "                t_val1    t_val2  t_tempo0  t_tempo1  t_tempo2    t_sig0  \\\n",
       "id            0.015156  0.032852 -0.001297  0.000617  0.002262 -0.041879   \n",
       "total_tracks  0.015051  0.024551  0.016933 -0.048845 -0.019779 -0.063627   \n",
       "t_dur0       -0.107600 -0.106250  0.007964 -0.032638 -0.029588  0.050840   \n",
       "t_dur1       -0.084869 -0.064974 -0.011106 -0.013197 -0.039309  0.021285   \n",
       "t_dur2       -0.069139 -0.115064 -0.004348 -0.012784 -0.039324  0.012222   \n",
       "t_dance0      0.326735  0.312633  0.080757  0.050089  0.063301  0.229628   \n",
       "t_dance1      0.458649  0.305252  0.063958 -0.012048  0.040317  0.084748   \n",
       "t_dance2      0.330936  0.480709  0.065594  0.063653 -0.000050  0.064625   \n",
       "t_energy0     0.237767  0.254437  0.205279  0.141527  0.148943  0.168552   \n",
       "t_energy1     0.343170  0.237026  0.131163  0.211754  0.141669  0.085729   \n",
       "t_energy2     0.198646  0.368321  0.104095  0.152541  0.203086  0.098141   \n",
       "t_key0        0.066491  0.041011 -0.019461  0.018508  0.003660  0.036774   \n",
       "t_key1        0.078613  0.039942 -0.018198  0.003388 -0.013157 -0.000513   \n",
       "t_key2        0.021805  0.018454 -0.013218 -0.009461 -0.023738  0.006391   \n",
       "t_mode0       0.026503  0.013715  0.000351  0.065083  0.008132 -0.023677   \n",
       "t_mode1      -0.021082 -0.011257 -0.003785  0.034270  0.019162  0.002605   \n",
       "t_mode2       0.024241 -0.015861 -0.021162  0.005231  0.006481 -0.023418   \n",
       "t_speech0     0.032928  0.051861 -0.000772 -0.017360  0.002596 -0.000936   \n",
       "t_speech1     0.038481  0.025981 -0.061001  0.018588 -0.002677 -0.043806   \n",
       "t_speech2     0.000122  0.049534 -0.056397 -0.048801  0.049976 -0.028677   \n",
       "t_acous0     -0.130316 -0.130818 -0.176477 -0.120213 -0.120984 -0.155613   \n",
       "t_acous1     -0.171582 -0.137691 -0.136059 -0.158270 -0.127455 -0.094888   \n",
       "t_acous2     -0.116876 -0.185639 -0.102025 -0.133889 -0.164164 -0.097268   \n",
       "t_ins0       -0.281333 -0.293833 -0.048332 -0.062695 -0.035208 -0.055283   \n",
       "t_ins1       -0.277956 -0.288993 -0.058214 -0.068699 -0.056013 -0.071227   \n",
       "t_ins2       -0.284384 -0.308335 -0.045825 -0.068340 -0.032385 -0.064737   \n",
       "t_live0      -0.007637  0.003455 -0.029164 -0.011681  0.017103 -0.056589   \n",
       "t_live1      -0.018212 -0.001971 -0.024245  0.021277  0.030659 -0.011839   \n",
       "t_live2      -0.016832  0.007169 -0.048545 -0.015080  0.009493  0.000505   \n",
       "t_val0        0.528432  0.507412  0.118455  0.045431  0.037085  0.114688   \n",
       "t_val1        1.000000  0.493090  0.047214  0.124605  0.014671  0.037904   \n",
       "t_val2        0.493090  1.000000  0.061390  0.062620  0.096186  0.041287   \n",
       "t_tempo0      0.047214  0.061390  1.000000  0.118798  0.158603  0.149617   \n",
       "t_tempo1      0.124605  0.062620  0.118798  1.000000  0.159612  0.039920   \n",
       "t_tempo2      0.014671  0.096186  0.158603  0.159612  1.000000  0.035779   \n",
       "t_sig0        0.037904  0.041287  0.149617  0.039920  0.035779  1.000000   \n",
       "t_sig1        0.107084  0.052842  0.059835  0.070538  0.040982  0.158996   \n",
       "t_sig2        0.077747  0.102021  0.030747  0.049273  0.027944  0.117083   \n",
       "popularity    0.057493  0.090917  0.015832 -0.008395  0.003591 -0.002679   \n",
       "\n",
       "                t_sig1    t_sig2  popularity  \n",
       "id           -0.003614  0.017398   -0.253561  \n",
       "total_tracks -0.058912  0.004617    0.055853  \n",
       "t_dur0       -0.037578 -0.029837   -0.052885  \n",
       "t_dur1        0.005725  0.000070   -0.046058  \n",
       "t_dur2        0.001833  0.006489   -0.056048  \n",
       "t_dance0      0.131708  0.132268   -0.006613  \n",
       "t_dance1      0.210627  0.179532    0.021690  \n",
       "t_dance2      0.138909  0.221097    0.050331  \n",
       "t_energy0     0.115615  0.091517    0.066504  \n",
       "t_energy1     0.164737  0.110830    0.107671  \n",
       "t_energy2     0.104579  0.141164    0.093372  \n",
       "t_key0       -0.002984 -0.014191    0.016224  \n",
       "t_key1        0.026408 -0.030821   -0.044422  \n",
       "t_key2       -0.002641  0.037053    0.013449  \n",
       "t_mode0      -0.043934 -0.010100    0.028030  \n",
       "t_mode1      -0.019285 -0.037892    0.054649  \n",
       "t_mode2      -0.035448 -0.056496    0.013059  \n",
       "t_speech0     0.030646  0.045064   -0.080305  \n",
       "t_speech1     0.018614  0.071016   -0.126392  \n",
       "t_speech2     0.000274  0.051900   -0.105396  \n",
       "t_acous0     -0.092511 -0.083162   -0.048651  \n",
       "t_acous1     -0.169178 -0.108209   -0.059171  \n",
       "t_acous2     -0.135130 -0.132691   -0.069969  \n",
       "t_ins0       -0.087470 -0.084304   -0.151640  \n",
       "t_ins1       -0.085161 -0.082490   -0.186636  \n",
       "t_ins2       -0.067539 -0.052889   -0.166684  \n",
       "t_live0      -0.028854 -0.017873   -0.008555  \n",
       "t_live1      -0.023631 -0.028591   -0.003397  \n",
       "t_live2      -0.049491 -0.035314   -0.004939  \n",
       "t_val0        0.056437  0.053050    0.017540  \n",
       "t_val1        0.107084  0.077747    0.057493  \n",
       "t_val2        0.052842  0.102021    0.090917  \n",
       "t_tempo0      0.059835  0.030747    0.015832  \n",
       "t_tempo1      0.070538  0.049273   -0.008395  \n",
       "t_tempo2      0.040982  0.027944    0.003591  \n",
       "t_sig0        0.158996  0.117083   -0.002679  \n",
       "t_sig1        1.000000  0.139105   -0.030158  \n",
       "t_sig2        0.139105  1.000000   -0.013513  \n",
       "popularity   -0.030158 -0.013513    1.000000  \n",
       "\n",
       "[39 rows x 39 columns]"
      ]
     },
     "execution_count": 66,
     "metadata": {},
     "output_type": "execute_result"
    }
   ],
   "source": [
    "df.corr()"
   ]
  },
  {
   "cell_type": "markdown",
   "id": "9052c082",
   "metadata": {},
   "source": [
    "Ser på fordeling av dataen av de forksjellige attributene i data-settet, her ser vi igjen at t_dance, t_tempo, t_energy og t_val har en god fordeling av data. Dette er en annen grunn til at vi valgte de feauterene som vi gjorde. Vi kan også se at target variablen vår har en realtivt god fordeling av data."
   ]
  },
  {
   "cell_type": "code",
   "execution_count": 67,
   "id": "95cbeb0d",
   "metadata": {},
   "outputs": [
    {
     "name": "stderr",
     "output_type": "stream",
     "text": [
      "C:\\Users\\Henrik\\AppData\\Local\\Temp/ipykernel_22384/311011343.py:2: RuntimeWarning: More than 20 figures have been opened. Figures created through the pyplot interface (`matplotlib.pyplot.figure`) are retained until explicitly closed and may consume too much memory. (To control this warning, see the rcParam `figure.max_open_warning`).\n",
      "  plt.figure()\n"
     ]
    },
    {
     "data": {
      "text/plain": [
       "<Figure size 432x288 with 0 Axes>"
      ]
     },
     "metadata": {},
     "output_type": "display_data"
    },
    {
     "data": {
      "image/png": "[encoded data removed]",
      "text/plain": [
       "<Figure size 360x360 with 1 Axes>"
      ]
     },
     "metadata": {
      "needs_background": "light"
     },
     "output_type": "display_data"
    },
    {
     "data": {
      "text/plain": [
       "<Figure size 432x288 with 0 Axes>"
      ]
     },
     "metadata": {},
     "output_type": "display_data"
    },
    {
     "data": {
      "image/png": "[encoded data removed]",
      "text/plain": [
       "<Figure size 360x360 with 1 Axes>"
      ]
     },
     "metadata": {
      "needs_background": "light"
     },
     "output_type": "display_data"
    },
    {
     "data": {
      "text/plain": [
       "<Figure size 432x288 with 0 Axes>"
      ]
     },
     "metadata": {},
     "output_type": "display_data"
    },
    {
     "data": {
      "image/png": "[encoded data removed]",
      "text/plain": [
       "<Figure size 360x360 with 1 Axes>"
      ]
     },
     "metadata": {
      "needs_background": "light"
     },
     "output_type": "display_data"
    },
    {
     "data": {
      "text/plain": [
       "<Figure size 432x288 with 0 Axes>"
      ]
     },
     "metadata": {},
     "output_type": "display_data"
    },
    {
     "data": {
      "image/png": "[encoded data removed]",
      "text/plain": [
       "<Figure size 360x360 with 1 Axes>"
      ]
     },
     "metadata": {
      "needs_background": "light"
     },
     "output_type": "display_data"
    },
    {
     "data": {
      "text/plain": [
       "<Figure size 432x288 with 0 Axes>"
      ]
     },
     "metadata": {},
     "output_type": "display_data"
    },
    {
     "data": {
      "image/png": "[encoded data removed]",
      "text/plain": [
       "<Figure size 360x360 with 1 Axes>"
      ]
     },
     "metadata": {
      "needs_background": "light"
     },
     "output_type": "display_data"
    },
    {
     "data": {
      "text/plain": [
       "<Figure size 432x288 with 0 Axes>"
      ]
     },
     "metadata": {},
     "output_type": "display_data"
    },
    {
     "data": {
      "image/png": "[encoded data removed]",
      "text/plain": [
       "<Figure size 360x360 with 1 Axes>"
      ]
     },
     "metadata": {
      "needs_background": "light"
     },
     "output_type": "display_data"
    },
    {
     "data": {
      "text/plain": [
       "<Figure size 432x288 with 0 Axes>"
      ]
     },
     "metadata": {},
     "output_type": "display_data"
    },
    {
     "data": {
      "image/png": "[encoded data removed]",
      "text/plain": [
       "<Figure size 360x360 with 1 Axes>"
      ]
     },
     "metadata": {
      "needs_background": "light"
     },
     "output_type": "display_data"
    },
    {
     "data": {
      "text/plain": [
       "<Figure size 432x288 with 0 Axes>"
      ]
     },
     "metadata": {},
     "output_type": "display_data"
    },
    {
     "data": {
      "image/png": "[encoded data removed]",
      "text/plain": [
       "<Figure size 360x360 with 1 Axes>"
      ]
     },
     "metadata": {
      "needs_background": "light"
     },
     "output_type": "display_data"
    },
    {
     "data": {
      "text/plain": [
       "<Figure size 432x288 with 0 Axes>"
      ]
     },
     "metadata": {},
     "output_type": "display_data"
    },
    {
     "data": {
      "image/png": "[encoded data removed]",
      "text/plain": [
       "<Figure size 360x360 with 1 Axes>"
      ]
     },
     "metadata": {
      "needs_background": "light"
     },
     "output_type": "display_data"
    },
    {
     "data": {
      "text/plain": [
       "<Figure size 432x288 with 0 Axes>"
      ]
     },
     "metadata": {},
     "output_type": "display_data"
    },
    {
     "data": {
      "image/png": "[encoded data removed]",
      "text/plain": [
       "<Figure size 360x360 with 1 Axes>"
      ]
     },
     "metadata": {
      "needs_background": "light"
     },
     "output_type": "display_data"
    },
    {
     "data": {
      "text/plain": [
       "<Figure size 432x288 with 0 Axes>"
      ]
     },
     "metadata": {},
     "output_type": "display_data"
    },
    {
     "data": {
      "image/png": "[encoded data removed]",
      "text/plain": [
       "<Figure size 360x360 with 1 Axes>"
      ]
     },
     "metadata": {
      "needs_background": "light"
     },
     "output_type": "display_data"
    },
    {
     "data": {
      "text/plain": [
       "<Figure size 432x288 with 0 Axes>"
      ]
     },
     "metadata": {},
     "output_type": "display_data"
    },
    {
     "data": {
      "image/png": "[encoded data removed]",
      "text/plain": [
       "<Figure size 360x360 with 1 Axes>"
      ]
     },
     "metadata": {
      "needs_background": "light"
     },
     "output_type": "display_data"
    },
    {
     "data": {
      "text/plain": [
       "<Figure size 432x288 with 0 Axes>"
      ]
     },
     "metadata": {},
     "output_type": "display_data"
    },
    {
     "data": {
      "image/png": "[encoded data removed]",
      "text/plain": [
       "<Figure size 360x360 with 1 Axes>"
      ]
     },
     "metadata": {
      "needs_background": "light"
     },
     "output_type": "display_data"
    },
    {
     "data": {
      "text/plain": [
       "<Figure size 432x288 with 0 Axes>"
      ]
     },
     "metadata": {},
     "output_type": "display_data"
    },
    {
     "data": {
      "image/png": "[encoded data removed]",
      "text/plain": [
       "<Figure size 360x360 with 1 Axes>"
      ]
     },
     "metadata": {
      "needs_background": "light"
     },
     "output_type": "display_data"
    },
    {
     "data": {
      "text/plain": [
       "<Figure size 432x288 with 0 Axes>"
      ]
     },
     "metadata": {},
     "output_type": "display_data"
    },
    {
     "data": {
      "image/png": "[encoded data removed]",
      "text/plain": [
       "<Figure size 360x360 with 1 Axes>"
      ]
     },
     "metadata": {
      "needs_background": "light"
     },
     "output_type": "display_data"
    },
    {
     "data": {
      "text/plain": [
       "<Figure size 432x288 with 0 Axes>"
      ]
     },
     "metadata": {},
     "output_type": "display_data"
    },
    {
     "data": {
      "image/png": "[encoded data removed]",
      "text/plain": [
       "<Figure size 360x360 with 1 Axes>"
      ]
     },
     "metadata": {
      "needs_background": "light"
     },
     "output_type": "display_data"
    },
    {
     "data": {
      "text/plain": [
       "<Figure size 432x288 with 0 Axes>"
      ]
     },
     "metadata": {},
     "output_type": "display_data"
    },
    {
     "data": {
      "image/png": "[encoded data removed]",
      "text/plain": [
       "<Figure size 360x360 with 1 Axes>"
      ]
     },
     "metadata": {
      "needs_background": "light"
     },
     "output_type": "display_data"
    },
    {
     "data": {
      "text/plain": [
       "<Figure size 432x288 with 0 Axes>"
      ]
     },
     "metadata": {},
     "output_type": "display_data"
    },
    {
     "data": {
      "image/png": "[encoded data removed]",
      "text/plain": [
       "<Figure size 360x360 with 1 Axes>"
      ]
     },
     "metadata": {
      "needs_background": "light"
     },
     "output_type": "display_data"
    },
    {
     "data": {
      "text/plain": [
       "<Figure size 432x288 with 0 Axes>"
      ]
     },
     "metadata": {},
     "output_type": "display_data"
    },
    {
     "data": {
      "image/png": "[encoded data removed]",
      "text/plain": [
       "<Figure size 360x360 with 1 Axes>"
      ]
     },
     "metadata": {
      "needs_background": "light"
     },
     "output_type": "display_data"
    },
    {
     "data": {
      "text/plain": [
       "<Figure size 432x288 with 0 Axes>"
      ]
     },
     "metadata": {},
     "output_type": "display_data"
    },
    {
     "data": {
      "image/png": "[encoded data removed]",
      "text/plain": [
       "<Figure size 360x360 with 1 Axes>"
      ]
     },
     "metadata": {
      "needs_background": "light"
     },
     "output_type": "display_data"
    },
    {
     "data": {
      "text/plain": [
       "<Figure size 432x288 with 0 Axes>"
      ]
     },
     "metadata": {},
     "output_type": "display_data"
    },
    {
     "data": {
      "image/png": "[encoded data removed]",
      "text/plain": [
       "<Figure size 360x360 with 1 Axes>"
      ]
     },
     "metadata": {
      "needs_background": "light"
     },
     "output_type": "display_data"
    },
    {
     "data": {
      "text/plain": [
       "<Figure size 432x288 with 0 Axes>"
      ]
     },
     "metadata": {},
     "output_type": "display_data"
    },
    {
     "data": {
      "image/png": "[encoded data removed]",
      "text/plain": [
       "<Figure size 360x360 with 1 Axes>"
      ]
     },
     "metadata": {
      "needs_background": "light"
     },
     "output_type": "display_data"
    },
    {
     "data": {
      "text/plain": [
       "<Figure size 432x288 with 0 Axes>"
      ]
     },
     "metadata": {},
     "output_type": "display_data"
    },
    {
     "data": {
      "image/png": "[encoded data removed]",
      "text/plain": [
       "<Figure size 360x360 with 1 Axes>"
      ]
     },
     "metadata": {
      "needs_background": "light"
     },
     "output_type": "display_data"
    },
    {
     "data": {
      "text/plain": [
       "<Figure size 432x288 with 0 Axes>"
      ]
     },
     "metadata": {},
     "output_type": "display_data"
    },
    {
     "data": {
      "image/png": "[encoded data removed]",
      "text/plain": [
       "<Figure size 360x360 with 1 Axes>"
      ]
     },
     "metadata": {
      "needs_background": "light"
     },
     "output_type": "display_data"
    },
    {
     "data": {
      "text/plain": [
       "<Figure size 432x288 with 0 Axes>"
      ]
     },
     "metadata": {},
     "output_type": "display_data"
    },
    {
     "data": {
      "image/png": "[encoded data removed]",
      "text/plain": [
       "<Figure size 360x360 with 1 Axes>"
      ]
     },
     "metadata": {
      "needs_background": "light"
     },
     "output_type": "display_data"
    },
    {
     "data": {
      "text/plain": [
       "<Figure size 432x288 with 0 Axes>"
      ]
     },
     "metadata": {},
     "output_type": "display_data"
    },
    {
     "data": {
      "image/png": "[encoded data removed]",
      "text/plain": [
       "<Figure size 360x360 with 1 Axes>"
      ]
     },
     "metadata": {
      "needs_background": "light"
     },
     "output_type": "display_data"
    },
    {
     "data": {
      "text/plain": [
       "<Figure size 432x288 with 0 Axes>"
      ]
     },
     "metadata": {},
     "output_type": "display_data"
    },
    {
     "data": {
      "image/png": "[encoded data removed]",
      "text/plain": [
       "<Figure size 360x360 with 1 Axes>"
      ]
     },
     "metadata": {
      "needs_background": "light"
     },
     "output_type": "display_data"
    },
    {
     "data": {
      "text/plain": [
       "<Figure size 432x288 with 0 Axes>"
      ]
     },
     "metadata": {},
     "output_type": "display_data"
    },
    {
     "data": {
      "image/png": "[encoded data removed]",
      "text/plain": [
       "<Figure size 360x360 with 1 Axes>"
      ]
     },
     "metadata": {
      "needs_background": "light"
     },
     "output_type": "display_data"
    },
    {
     "data": {
      "text/plain": [
       "<Figure size 432x288 with 0 Axes>"
      ]
     },
     "metadata": {},
     "output_type": "display_data"
    },
    {
     "data": {
      "image/png": "[encoded data removed]",
      "text/plain": [
       "<Figure size 360x360 with 1 Axes>"
      ]
     },
     "metadata": {
      "needs_background": "light"
     },
     "output_type": "display_data"
    },
    {
     "data": {
      "text/plain": [
       "<Figure size 432x288 with 0 Axes>"
      ]
     },
     "metadata": {},
     "output_type": "display_data"
    },
    {
     "data": {
      "image/png": "[encoded data removed]",
      "text/plain": [
       "<Figure size 360x360 with 1 Axes>"
      ]
     },
     "metadata": {
      "needs_background": "light"
     },
     "output_type": "display_data"
    },
    {
     "data": {
      "text/plain": [
       "<Figure size 432x288 with 0 Axes>"
      ]
     },
     "metadata": {},
     "output_type": "display_data"
    },
    {
     "data": {
      "image/png": "[encoded data removed]",
      "text/plain": [
       "<Figure size 360x360 with 1 Axes>"
      ]
     },
     "metadata": {
      "needs_background": "light"
     },
     "output_type": "display_data"
    },
    {
     "data": {
      "text/plain": [
       "<Figure size 432x288 with 0 Axes>"
      ]
     },
     "metadata": {},
     "output_type": "display_data"
    },
    {
     "data": {
      "image/png": "[encoded data removed]",
      "text/plain": [
       "<Figure size 360x360 with 1 Axes>"
      ]
     },
     "metadata": {
      "needs_background": "light"
     },
     "output_type": "display_data"
    },
    {
     "data": {
      "text/plain": [
       "<Figure size 432x288 with 0 Axes>"
      ]
     },
     "metadata": {},
     "output_type": "display_data"
    },
    {
     "data": {
      "image/png": "[encoded data removed]",
      "text/plain": [
       "<Figure size 360x360 with 1 Axes>"
      ]
     },
     "metadata": {
      "needs_background": "light"
     },
     "output_type": "display_data"
    },
    {
     "data": {
      "text/plain": [
       "<Figure size 432x288 with 0 Axes>"
      ]
     },
     "metadata": {},
     "output_type": "display_data"
    },
    {
     "data": {
      "image/png": "[encoded data removed]",
      "text/plain": [
       "<Figure size 360x360 with 1 Axes>"
      ]
     },
     "metadata": {
      "needs_background": "light"
     },
     "output_type": "display_data"
    },
    {
     "data": {
      "text/plain": [
       "<Figure size 432x288 with 0 Axes>"
      ]
     },
     "metadata": {},
     "output_type": "display_data"
    },
    {
     "data": {
      "image/png": "[encoded data removed]",
      "text/plain": [
       "<Figure size 360x360 with 1 Axes>"
      ]
     },
     "metadata": {
      "needs_background": "light"
     },
     "output_type": "display_data"
    },
    {
     "data": {
      "text/plain": [
       "<Figure size 432x288 with 0 Axes>"
      ]
     },
     "metadata": {},
     "output_type": "display_data"
    },
    {
     "data": {
      "image/png": "[encoded data removed]",
      "text/plain": [
       "<Figure size 360x360 with 1 Axes>"
      ]
     },
     "metadata": {
      "needs_background": "light"
     },
     "output_type": "display_data"
    },
    {
     "data": {
      "text/plain": [
       "<Figure size 432x288 with 0 Axes>"
      ]
     },
     "metadata": {},
     "output_type": "display_data"
    },
    {
     "data": {
      "image/png": "[encoded data removed]",
      "text/plain": [
       "<Figure size 360x360 with 1 Axes>"
      ]
     },
     "metadata": {
      "needs_background": "light"
     },
     "output_type": "display_data"
    },
    {
     "data": {
      "text/plain": [
       "<Figure size 432x288 with 0 Axes>"
      ]
     },
     "metadata": {},
     "output_type": "display_data"
    },
    {
     "data": {
      "image/png": "[encoded data removed]",
      "text/plain": [
       "<Figure size 360x360 with 1 Axes>"
      ]
     },
     "metadata": {
      "needs_background": "light"
     },
     "output_type": "display_data"
    },
    {
     "data": {
      "text/plain": [
       "<Figure size 432x288 with 0 Axes>"
      ]
     },
     "metadata": {},
     "output_type": "display_data"
    },
    {
     "data": {
      "image/png": "[encoded data removed]",
      "text/plain": [
       "<Figure size 360x360 with 1 Axes>"
      ]
     },
     "metadata": {
      "needs_background": "light"
     },
     "output_type": "display_data"
    }
   ],
   "source": [
    "for col in df.columns:\n",
    "  plt.figure()\n",
    "  sns.displot(df[col])"
   ]
  },
  {
   "cell_type": "markdown",
   "id": "d59151ca",
   "metadata": {},
   "source": [
    "Setter sammen attributene vi vil bruke ved å finne gjennomsnittet på 0, 1 og 2 av attributen."
   ]
  },
  {
   "cell_type": "code",
   "execution_count": 68,
   "id": "7c479c65",
   "metadata": {},
   "outputs": [],
   "source": [
    "df[\"energy\"] = df[['t_energy0', 't_energy1', 't_energy2']].mean(axis=1)\n",
    "df[\"tempo\"] = df[['t_tempo0', 't_tempo1', 't_tempo2']].mean(axis=1)\n",
    "df[\"dance\"] = df[['t_dance0', 't_dance1', 't_dance2']].mean(axis=1)\n",
    "df[\"valence\"] = df[['t_val0', 't_val1', 't_val2']].mean(axis=1)"
   ]
  },
  {
   "cell_type": "markdown",
   "id": "23196014",
   "metadata": {},
   "source": [
    "Bruker scatter plot med popularity som Y og attributene vi valgte å gå videre med for å se om vi kunne finne en trend mellom Y og X i noen av dem. Her var det desverre ikke mye verdifull informasjon å hente, det vi fikk ut av denne scatter ploten var at attributene mangler enn underliggende trend når vi skal se på for mye korrelasjon de har til popularity."
   ]
  },
  {
   "cell_type": "code",
   "execution_count": 69,
   "id": "ac187d3c",
   "metadata": {},
   "outputs": [
    {
     "data": {
      "text/plain": [
       "<matplotlib.collections.PathCollection at 0x154f1f0ee80>"
      ]
     },
     "execution_count": 69,
     "metadata": {},
     "output_type": "execute_result"
    },
    {
     "data": {
      "image/png": "[encoded data removed]",
      "text/plain": [
       "<Figure size 432x288 with 1 Axes>"
      ]
     },
     "metadata": {
      "needs_background": "light"
     },
     "output_type": "display_data"
    }
   ],
   "source": [
    "%matplotlib inline\n",
    "plt.xlabel(\"energy\")\n",
    "plt.ylabel(\"popularity\")\n",
    "plt.scatter(df.energy, df.popularity, color=\"red\", marker=\"+\")"
   ]
  },
  {
   "cell_type": "code",
   "execution_count": 70,
   "id": "4aaa542b",
   "metadata": {},
   "outputs": [
    {
     "data": {
      "text/plain": [
       "<matplotlib.collections.PathCollection at 0x154ee3acc40>"
      ]
     },
     "execution_count": 70,
     "metadata": {},
     "output_type": "execute_result"
    },
    {
     "data": {
      "image/png": "[encoded data removed]",
      "text/plain": [
       "<Figure size 432x288 with 1 Axes>"
      ]
     },
     "metadata": {
      "needs_background": "light"
     },
     "output_type": "display_data"
    }
   ],
   "source": [
    "%matplotlib inline\n",
    "plt.xlabel(\"tempo\")\n",
    "plt.ylabel(\"popularity\")\n",
    "plt.scatter(df.tempo, df.popularity, color=\"red\", marker=\"+\")"
   ]
  },
  {
   "cell_type": "code",
   "execution_count": 71,
   "id": "b51272fc",
   "metadata": {},
   "outputs": [
    {
     "data": {
      "text/plain": [
       "<matplotlib.collections.PathCollection at 0x154ee5be9d0>"
      ]
     },
     "execution_count": 71,
     "metadata": {},
     "output_type": "execute_result"
    },
    {
     "data": {
      "image/png": "[encoded data removed]",
      "text/plain": [
       "<Figure size 432x288 with 1 Axes>"
      ]
     },
     "metadata": {
      "needs_background": "light"
     },
     "output_type": "display_data"
    }
   ],
   "source": [
    "%matplotlib inline\n",
    "plt.xlabel(\"danceability\")\n",
    "plt.ylabel(\"popularity\")\n",
    "plt.scatter(df.dance, df.popularity, color=\"red\", marker=\"+\")"
   ]
  },
  {
   "cell_type": "code",
   "execution_count": 72,
   "id": "92e4805f",
   "metadata": {},
   "outputs": [
    {
     "data": {
      "text/plain": [
       "<matplotlib.collections.PathCollection at 0x154ee629a90>"
      ]
     },
     "execution_count": 72,
     "metadata": {},
     "output_type": "execute_result"
    },
    {
     "data": {
      "image/png": "[encoded data removed]",
      "text/plain": [
       "<Figure size 432x288 with 1 Axes>"
      ]
     },
     "metadata": {
      "needs_background": "light"
     },
     "output_type": "display_data"
    }
   ],
   "source": [
    "%matplotlib inline\n",
    "plt.xlabel(\"valence\")\n",
    "plt.ylabel(\"popularity\")\n",
    "plt.scatter(df.valence, df.popularity, color=\"red\", marker=\"+\")"
   ]
  },
  {
   "cell_type": "markdown",
   "id": "3d247924",
   "metadata": {},
   "source": [
    "Her går videre med de featurene vi har valgt for å se om de har noen outliers som muligens må bli fjernet. For å se etter outliers brukte vi sns boxplot. Under kan man se at tempo, energy og danceaility hadde et par outliers som vi fjernet. Ettersom at vi lagde modellene før vi fjernet noen outliers, fant vi ut av at det å fjerne disse outlierene hjalp oss å få en litt bedre score. For å unngå overfitting valgte vi å fjerne outliersene manuelt slik at vi hadde en ide av hvor mye av dataen vi fjernet.adde et par outliers som vi fjernet. Ettersom at vi lagde modellene før vi fjernet noen outliers, fant vi ut av at det å fjerne disse outlierene hjalp oss å få en litt bedre score. For å unngå overfitting valgte vi å fjerne outliersene manuelt slik at vi hadde en ide av hvor mye av dataen vi fjernet."
   ]
  },
  {
   "cell_type": "code",
   "execution_count": 73,
   "id": "07c5ccba",
   "metadata": {},
   "outputs": [
    {
     "data": {
      "image/png": "[encoded data removed]",
      "text/plain": [
       "<Figure size 432x288 with 1 Axes>"
      ]
     },
     "metadata": {
      "needs_background": "light"
     },
     "output_type": "display_data"
    }
   ],
   "source": [
    "plt.figure()\n",
    "sns.boxplot(x='energy', data=df)\n",
    "plt.ticklabel_format(style='plain', axis='x')\n",
    "plt.title('Boxplot of energy in albums')\n",
    "plt.show()"
   ]
  },
  {
   "cell_type": "markdown",
   "id": "932f506a",
   "metadata": {},
   "source": [
    "fjerner outliers"
   ]
  },
  {
   "cell_type": "code",
   "execution_count": 74,
   "id": "cbeb3327",
   "metadata": {},
   "outputs": [],
   "source": [
    "df = df[(df['energy'] < 1.0) & (df['energy'] > 0.1)]"
   ]
  },
  {
   "cell_type": "code",
   "execution_count": 75,
   "id": "82765c71",
   "metadata": {},
   "outputs": [
    {
     "data": {
      "image/png": "[encoded data removed]",
      "text/plain": [
       "<Figure size 432x288 with 1 Axes>"
      ]
     },
     "metadata": {
      "needs_background": "light"
     },
     "output_type": "display_data"
    }
   ],
   "source": [
    "plt.figure()\n",
    "sns.boxplot(x='energy', data=df)\n",
    "plt.ticklabel_format(style='plain', axis='x')\n",
    "plt.title('Boxplot of energy in albums')\n",
    "plt.show()"
   ]
  },
  {
   "cell_type": "code",
   "execution_count": 76,
   "id": "a235bfe1",
   "metadata": {},
   "outputs": [
    {
     "data": {
      "image/png": "[encoded data removed]",
      "text/plain": [
       "<Figure size 432x288 with 1 Axes>"
      ]
     },
     "metadata": {
      "needs_background": "light"
     },
     "output_type": "display_data"
    }
   ],
   "source": [
    "plt.figure()\n",
    "sns.boxplot(x='tempo', data=df)\n",
    "plt.ticklabel_format(style='plain', axis='x')\n",
    "plt.title('Boxplot of tempo in albums')\n",
    "plt.show()"
   ]
  },
  {
   "cell_type": "markdown",
   "id": "acca3e1e",
   "metadata": {},
   "source": [
    "fjerner outliers"
   ]
  },
  {
   "cell_type": "code",
   "execution_count": 77,
   "id": "d5f7fd3c",
   "metadata": {},
   "outputs": [],
   "source": [
    "df = df[(df['tempo'] < 170) & (df['tempo'] > 70)]"
   ]
  },
  {
   "cell_type": "code",
   "execution_count": 78,
   "id": "97695cad",
   "metadata": {},
   "outputs": [
    {
     "data": {
      "image/png": "[encoded data removed]",
      "text/plain": [
       "<Figure size 432x288 with 1 Axes>"
      ]
     },
     "metadata": {
      "needs_background": "light"
     },
     "output_type": "display_data"
    }
   ],
   "source": [
    "plt.figure()\n",
    "sns.boxplot(x='tempo', data=df)\n",
    "plt.ticklabel_format(style='plain', axis='x')\n",
    "plt.title('Boxplot of tempo in albums')\n",
    "plt.show()"
   ]
  },
  {
   "cell_type": "code",
   "execution_count": 79,
   "id": "08bf26a1",
   "metadata": {},
   "outputs": [
    {
     "data": {
      "image/png": "[encoded data removed]",
      "text/plain": [
       "<Figure size 432x288 with 1 Axes>"
      ]
     },
     "metadata": {
      "needs_background": "light"
     },
     "output_type": "display_data"
    }
   ],
   "source": [
    "plt.figure()\n",
    "sns.boxplot(x='dance', data=df)\n",
    "plt.ticklabel_format(style='plain', axis='x')\n",
    "plt.title('Boxplot of danceability')\n",
    "plt.show()"
   ]
  },
  {
   "cell_type": "markdown",
   "id": "6c465cdc",
   "metadata": {},
   "source": [
    "fjerner outliers"
   ]
  },
  {
   "cell_type": "code",
   "execution_count": 80,
   "id": "9d7aea01",
   "metadata": {},
   "outputs": [],
   "source": [
    "df = df[(df['dance'] < 1.0) & (df['dance'] > 0.2)]"
   ]
  },
  {
   "cell_type": "code",
   "execution_count": 81,
   "id": "4e1b3176",
   "metadata": {},
   "outputs": [
    {
     "data": {
      "image/png": "[encoded data removed]",
      "text/plain": [
       "<Figure size 432x288 with 1 Axes>"
      ]
     },
     "metadata": {
      "needs_background": "light"
     },
     "output_type": "display_data"
    }
   ],
   "source": [
    "plt.figure()\n",
    "sns.boxplot(x='dance', data=df)\n",
    "plt.ticklabel_format(style='plain', axis='x')\n",
    "plt.title('Boxplot of danceability')\n",
    "plt.show()"
   ]
  },
  {
   "cell_type": "code",
   "execution_count": 82,
   "id": "4f5bb7cc",
   "metadata": {},
   "outputs": [
    {
     "data": {
      "image/png": "[encoded data removed]",
      "text/plain": [
       "<Figure size 432x288 with 1 Axes>"
      ]
     },
     "metadata": {
      "needs_background": "light"
     },
     "output_type": "display_data"
    }
   ],
   "source": [
    "plt.figure()\n",
    "sns.boxplot(x='valence', data=df)\n",
    "plt.ticklabel_format(style='plain', axis='x')\n",
    "plt.title('Boxplot of valence')\n",
    "plt.show()"
   ]
  },
  {
   "cell_type": "markdown",
   "id": "e638b6c3",
   "metadata": {},
   "source": [
    "Visualisering av atrributenes forhold til target variable etter fjerning av outliers."
   ]
  },
  {
   "cell_type": "code",
   "execution_count": 83,
   "id": "bab19274",
   "metadata": {},
   "outputs": [
    {
     "data": {
      "text/plain": [
       "<matplotlib.collections.PathCollection at 0x154ee9ffd60>"
      ]
     },
     "execution_count": 83,
     "metadata": {},
     "output_type": "execute_result"
    },
    {
     "data": {
      "image/png": "[encoded data removed]",
      "text/plain": [
       "<Figure size 432x288 with 1 Axes>"
      ]
     },
     "metadata": {
      "needs_background": "light"
     },
     "output_type": "display_data"
    }
   ],
   "source": [
    "%matplotlib inline\n",
    "plt.xlabel(\"energy\")\n",
    "plt.ylabel(\"popularity\")\n",
    "plt.scatter(df.energy, df.popularity, color=\"red\", marker=\"+\")"
   ]
  },
  {
   "cell_type": "code",
   "execution_count": 84,
   "id": "27bd364e",
   "metadata": {},
   "outputs": [
    {
     "data": {
      "text/plain": [
       "<matplotlib.collections.PathCollection at 0x154eeb61c40>"
      ]
     },
     "execution_count": 84,
     "metadata": {},
     "output_type": "execute_result"
    },
    {
     "data": {
      "image/png": "[encoded data removed]",
      "text/plain": [
       "<Figure size 432x288 with 1 Axes>"
      ]
     },
     "metadata": {
      "needs_background": "light"
     },
     "output_type": "display_data"
    }
   ],
   "source": [
    "%matplotlib inline\n",
    "plt.xlabel(\"tempo\")\n",
    "plt.ylabel(\"popularity\")\n",
    "plt.scatter(df.tempo, df.popularity, color=\"red\", marker=\"+\")"
   ]
  },
  {
   "cell_type": "code",
   "execution_count": 85,
   "id": "cf04bb3a",
   "metadata": {},
   "outputs": [
    {
     "data": {
      "text/plain": [
       "<matplotlib.collections.PathCollection at 0x154eebc1e50>"
      ]
     },
     "execution_count": 85,
     "metadata": {},
     "output_type": "execute_result"
    },
    {
     "data": {
      "image/png": "[encoded data removed]",
      "text/plain": [
       "<Figure size 432x288 with 1 Axes>"
      ]
     },
     "metadata": {
      "needs_background": "light"
     },
     "output_type": "display_data"
    }
   ],
   "source": [
    "%matplotlib inline\n",
    "plt.xlabel(\"danceability\")\n",
    "plt.ylabel(\"popularity\")\n",
    "plt.scatter(df.dance, df.popularity, color=\"red\", marker=\"+\")"
   ]
  },
  {
   "cell_type": "code",
   "execution_count": 86,
   "id": "d4d25116",
   "metadata": {
    "scrolled": true
   },
   "outputs": [],
   "source": [
    "from sklearn.preprocessing import LabelEncoder\n",
    "le = LabelEncoder()\n",
    "df[[\"energy\"]] = df[[\"energy\"]].apply(le.fit_transform)\n",
    "df[[\"tempo\"]] = df[[\"tempo\"]].apply(le.fit_transform)\n",
    "df[[\"dance\"]] = df[[\"dance\"]].apply(le.fit_transform)\n",
    "df[[\"valence\"]] = df[[\"valence\"]].apply(le.fit_transform)\n",
    "df[[\"popularity\"]] = df[[\"popularity\"]].apply(le.fit_transform)"
   ]
  },
  {
   "cell_type": "raw",
   "id": "92ad1da0",
   "metadata": {},
   "source": [
    "Splitter målvariabel fra de uavhengige variabler våre så vi kan putte dem i trening og test-set."
   ]
  },
  {
   "cell_type": "code",
   "execution_count": 87,
   "id": "d737d134",
   "metadata": {},
   "outputs": [
    {
     "data": {
      "text/plain": [
       "((2662, 4), (2662,))"
      ]
     },
     "execution_count": 87,
     "metadata": {},
     "output_type": "execute_result"
    }
   ],
   "source": [
    "from sklearn.model_selection import train_test_split\n",
    "Y = df[\"popularity\"]\n",
    "X = df[[\"dance\", \"energy\", \"tempo\", \"valence\"]]\n",
    "\n",
    "X.shape , Y.shape"
   ]
  },
  {
   "cell_type": "markdown",
   "id": "246e9ee9",
   "metadata": {},
   "source": [
    "Splitter data-setet inn trening og test set, en del av data-setet vil bli brukt til trening mens den andre delen(test set) vi bli brukt for evaluering. Spliten vil ha en ratio på 70:30, argumnetet X vil være uavhengige variabler mens Y(popularitet) vil være vår target variabel."
   ]
  },
  {
   "cell_type": "code",
   "execution_count": 88,
   "id": "6c78e34b",
   "metadata": {},
   "outputs": [
    {
     "name": "stdout",
     "output_type": "stream",
     "text": [
      "      dance  energy  tempo  valence\n",
      "2261   1115     655   2298      669\n",
      "2325   1321    1717   1750      543\n",
      "2685     69     956    463      243\n",
      "2246    238    1097   1565     1541\n",
      "1065    676     973   1680      398\n",
      "...     ...     ...    ...      ...\n",
      "2683    715    1088   2346     1480\n",
      "2501    156    1355    106      174\n",
      "1697   1114     825   2014     1500\n",
      "2710   1295    1193   2336     1816\n",
      "2744   1052     306   1860     1079\n",
      "\n",
      "[1863 rows x 4 columns]\n",
      "2261     0\n",
      "2325    28\n",
      "2685    18\n",
      "2246    23\n",
      "1065    16\n",
      "        ..\n",
      "2683    23\n",
      "2501    20\n",
      "1697     0\n",
      "2710    29\n",
      "2744     9\n",
      "Name: popularity, Length: 1863, dtype: int64\n"
     ]
    }
   ],
   "source": [
    "from sklearn.model_selection import train_test_split\n",
    "X_train, X_test, y_train, y_test = train_test_split(X, Y, train_size = 0.7, test_size = 0.3, random_state = 2)\n",
    "print(X_train)\n",
    "print(y_train)"
   ]
  },
  {
   "cell_type": "code",
   "execution_count": 89,
   "id": "88690ded",
   "metadata": {},
   "outputs": [
    {
     "data": {
      "text/plain": [
       "((1863, 4), (1863,))"
      ]
     },
     "execution_count": 89,
     "metadata": {},
     "output_type": "execute_result"
    }
   ],
   "source": [
    "X_train.shape , y_train.shape"
   ]
  },
  {
   "cell_type": "code",
   "execution_count": 90,
   "id": "bccd3405",
   "metadata": {},
   "outputs": [
    {
     "data": {
      "text/plain": [
       "((799, 4), (799,))"
      ]
     },
     "execution_count": 90,
     "metadata": {},
     "output_type": "execute_result"
    }
   ],
   "source": [
    "X_test.shape , y_test.shape"
   ]
  },
  {
   "cell_type": "code",
   "execution_count": 91,
   "id": "eb6524bc",
   "metadata": {},
   "outputs": [
    {
     "name": "stdout",
     "output_type": "stream",
     "text": [
      "[[ 0.65855568 -0.57221235  1.2832175  -0.65965116]\n",
      " [ 1.14436647  1.58547083  0.56864014 -0.90640303]\n",
      " [-1.80823119  0.03933439 -1.10957347 -1.4939075 ]\n",
      " ...\n",
      " [ 0.65619737 -0.22682051  0.91288909  0.96773623]\n",
      " [ 1.08305055  0.52085125  1.33276848  1.58657427]\n",
      " [ 0.50998247 -1.2812815   0.7120772   0.14327162]]\n",
      "2261     0\n",
      "2325    28\n",
      "2685    18\n",
      "2246    23\n",
      "1065    16\n",
      "        ..\n",
      "2683    23\n",
      "2501    20\n",
      "1697     0\n",
      "2710    29\n",
      "2744     9\n",
      "Name: popularity, Length: 1863, dtype: int64\n"
     ]
    }
   ],
   "source": [
    "from sklearn.preprocessing import StandardScaler\n",
    "scale = StandardScaler().fit(X_train)\n",
    "\n",
    "X_train = scale.transform(X_train)\n",
    "\n",
    "X_test = scale.transform(X_test)\n",
    "\n",
    "print(X_train)\n",
    "print(y_train)"
   ]
  },
  {
   "cell_type": "markdown",
   "id": "5eb2ccc7",
   "metadata": {},
   "source": [
    "# Linear Regression"
   ]
  },
  {
   "cell_type": "code",
   "execution_count": 92,
   "id": "1949fdf8",
   "metadata": {},
   "outputs": [],
   "source": [
    "from sklearn.linear_model import LinearRegression "
   ]
  },
  {
   "cell_type": "code",
   "execution_count": 93,
   "id": "4691ed5c",
   "metadata": {},
   "outputs": [
    {
     "name": "stdout",
     "output_type": "stream",
     "text": [
      "lr.coef_: [ 0.30054429  1.86832337 -0.19021869  0.36535199]\n",
      "lr.intercept_: 34.44068706387547\n"
     ]
    }
   ],
   "source": [
    "from sklearn.linear_model import LinearRegression\n",
    "lr = LinearRegression().fit(X_train, y_train)\n",
    "print(\"lr.coef_:\", lr.coef_)\n",
    "print(\"lr.intercept_:\", lr.intercept_)"
   ]
  },
  {
   "cell_type": "markdown",
   "id": "f76756fc",
   "metadata": {},
   "source": [
    "Ols scoren til denne modellen er utrolig dårlig som vil indekere at modellen sliter med å finne en lineær sammenheng. Dette var i grunn ikke veldig overraskende ettersom at vi ikke så en underliggende trend i scatter ploten som vi brukte i preproscessing vår. For å få en bedre ide om hvorfor scoren ble så dårlig vil vi se på RMSE og R2."
   ]
  },
  {
   "cell_type": "code",
   "execution_count": 94,
   "id": "fa0cc9b4",
   "metadata": {},
   "outputs": [
    {
     "name": "stdout",
     "output_type": "stream",
     "text": [
      "Training set score:  0.01\n",
      "Test set score:  0.01\n"
     ]
    }
   ],
   "source": [
    "#OLS\n",
    "print(\"Training set score:  {:.2f}\".format(lr.score(X_train,y_train)))\n",
    "print(\"Test set score:  {:.2f}\".format(lr.score(X_test,y_test)))"
   ]
  },
  {
   "cell_type": "markdown",
   "id": "50d2d3f1",
   "metadata": {},
   "source": [
    "En av de vanligste metodene brukt for å evaluere regresjons modeller kalles root mean squared error, eller RMSE. Den grunnleggende ideen bak RMSE er å se hvor dårlig modelens spådommer er sammenlignet til de faktiske observerte verdiene. Så en bra score på RMSE vil være et lavt tall mens en dårlig score vil være høye tall. Under kan vi se at RMSE for trening er 18.82 og for testing er den 19.24. Dette forteller oss at data punktene ikke er konsentrert rundt regresjons linjene men er heller spred ut."
   ]
  },
  {
   "cell_type": "code",
   "execution_count": 95,
   "id": "25d5aead",
   "metadata": {},
   "outputs": [
    {
     "name": "stdout",
     "output_type": "stream",
     "text": [
      "RMSE for training: 18.82 \n",
      "\n",
      "RMSE for testing: 19.24 \n",
      "\n",
      "Mean squared error: 370.25\n"
     ]
    }
   ],
   "source": [
    "from sklearn.linear_model import LinearRegression, Lasso, Ridge\n",
    "from sklearn.metrics import mean_squared_error\n",
    "linreg_train_predict = lr.predict(X_train)\n",
    "rmse = np.sqrt(mean_squared_error(y_train, linreg_train_predict))\n",
    "print(\"RMSE for training: %.2f\"%rmse, \"\\n\")\n",
    "\n",
    "linreg_test_predict = lr.predict(X_test)\n",
    "rmse = np.sqrt(mean_squared_error(y_test, linreg_test_predict))\n",
    "print(\"RMSE for testing: %.2f\"%rmse, \"\\n\")\n",
    "\n",
    "# The mean squared error\n",
    "print(\"Mean squared error: %.2f\"\n",
    "      % mean_squared_error(y_test, linreg_test_predict))"
   ]
  },
  {
   "cell_type": "markdown",
   "id": "37024f41",
   "metadata": {},
   "source": [
    "Bestemmelseskoeffisienten eller R2 lar oss måle styrken mellom respons og prediktor variablen(popularity). R2 gir oss en score mellom 0,0 og 1,0, en høy score vil være bra mens en lav score vil være dårlig i dette tilfellet. Under kan vi se at vi har en lav r2 score som indekerer at det er en lav styrke mellom forholde til feauterene våre og  prediktor variablene. "
   ]
  },
  {
   "cell_type": "code",
   "execution_count": 96,
   "id": "d515ea30",
   "metadata": {},
   "outputs": [
    {
     "name": "stdout",
     "output_type": "stream",
     "text": [
      "0.011365062889867605\n"
     ]
    }
   ],
   "source": [
    "R = lr.score(X_train, y_train)\n",
    "print(R) #R squared"
   ]
  },
  {
   "cell_type": "markdown",
   "id": "e64a55de",
   "metadata": {},
   "source": [
    "Bruker trening og test settet som blir brukt på decision tree og neural network for å sammenligne med trening og test settet laget for linear regression modellen. "
   ]
  },
  {
   "cell_type": "code",
   "execution_count": 97,
   "id": "1c663b2e",
   "metadata": {},
   "outputs": [
    {
     "name": "stdout",
     "output_type": "stream",
     "text": [
      "lr.coef_: [ 1.33620656e+02 -5.82387169e+00  2.28953639e+00  7.13455920e+00\n",
      " -2.57695802e+00  7.66574388e+00  3.27954357e+00  4.61819362e-01\n",
      " -2.68001184e+00  6.69442390e-01  9.85007120e-01  1.46279247e+00\n",
      " -8.54650747e-02 -4.00436607e-01 -1.68311296e+01 -1.29468846e+01\n",
      " -1.66475068e+00  2.05956713e+00  7.59242869e-01 -3.92156355e+00\n",
      " -6.29535484e+00 -3.94216043e+00 -7.55122794e+00 -2.75186245e-01\n",
      "  9.98879663e-01 -4.81655674e+00 -3.21985435e+00  1.38682660e+00\n",
      " -2.32899841e+01 -6.41351910e+00]\n",
      "lr.intercept_: 43.39662071708358\n"
     ]
    }
   ],
   "source": [
    "from sklearn.linear_model import LinearRegression\n",
    "lr = LinearRegression().fit(X2_train, y2_train)\n",
    "print(\"lr.coef_:\", lr.coef_)\n",
    "print(\"lr.intercept_:\", lr.intercept_)"
   ]
  },
  {
   "cell_type": "markdown",
   "id": "f400afb6",
   "metadata": {},
   "source": [
    "Under kan vi se at training settet scorte litt bedre enn når vi brukte forbehandling rettet mot denne modellen. Men vi kan også se at trening settet scorte my høyere enn test settet som vil indekere at det er overtilpassing(overfitting), dette var det vi fryktet, dette bekrefter antagelsene våre om at dette ville skje. "
   ]
  },
  {
   "cell_type": "code",
   "execution_count": 98,
   "id": "9bb5d237",
   "metadata": {},
   "outputs": [
    {
     "name": "stdout",
     "output_type": "stream",
     "text": [
      "Training set score:  0.11\n",
      "Test set score:  0.02\n"
     ]
    }
   ],
   "source": [
    "#OLS\n",
    "print(\"Training set score:  {:.2f}\".format(lr.score(X2_train,y2_train)))\n",
    "print(\"Test set score:  {:.2f}\".format(lr.score(X2_test,y2_test)))"
   ]
  },
  {
   "cell_type": "code",
   "execution_count": 99,
   "id": "55ab78cb",
   "metadata": {},
   "outputs": [
    {
     "name": "stdout",
     "output_type": "stream",
     "text": [
      "lr.coef_: [ 0.29459056  1.8356808  -0.18095499  0.37006086]\n",
      "lr.intercept_: 34.44068706387547\n",
      "Training set score:  0.01\n",
      "Test set score:  0.01\n"
     ]
    }
   ],
   "source": [
    "from sklearn.linear_model import Ridge\n",
    "lr = Ridge(alpha=30).fit(X_train,y_train)\n",
    "print(\"lr.coef_:\", lr.coef_)\n",
    "print(\"lr.intercept_:\", lr.intercept_)\n",
    "print(\"Training set score:  {:.2f}\".format(lr.score(X_train,y_train)))\n",
    "print(\"Test set score:  {:.2f}\".format(lr.score(X_test,y_test)))"
   ]
  },
  {
   "cell_type": "code",
   "execution_count": 100,
   "id": "3009f1ec",
   "metadata": {},
   "outputs": [
    {
     "name": "stdout",
     "output_type": "stream",
     "text": [
      "lr.coef_: [ 0.1435561   1.65613534 -0.          0.27473766]\n",
      "lr.intercept_: 34.44068706387547\n",
      "Training set score:  0.01\n",
      "Test set score:  0.01\n"
     ]
    }
   ],
   "source": [
    "from sklearn.linear_model import Lasso\n",
    "lr = Lasso(alpha=0.2).fit(X_train,y_train)\n",
    "print(\"lr.coef_:\", lr.coef_)\n",
    "print(\"lr.intercept_:\", lr.intercept_)\n",
    "print(\"Training set score:  {:.2f}\".format(lr.score(X_train,y_train)))\n",
    "print(\"Test set score:  {:.2f}\".format(lr.score(X_test,y_test)))"
   ]
  },
  {
   "cell_type": "markdown",
   "id": "05c3cb4e",
   "metadata": {},
   "source": [
    "# Neural Network"
   ]
  },
  {
   "cell_type": "markdown",
   "id": "c05d1b0f",
   "metadata": {},
   "source": [
    "Neural Networks er den andre modellen vi har valgt. Her har vi også valgt å sette en maks iterasjoner på 1000 per gjennomgang. Dette gjorde vi for å begrense mengden data og tid modellen tar å kjøre. Dette gjør at vi får noe forskjellig score fra hver gang du kjører modellen, i tillegg får man kjørt gjennom varierte mengder av dataen vi har valgt å ha med i modellene. Første vi gjorde i modellen var å sette en variabel som heter neural_neworks. Denne tar inn MLPRegressor (som også er importet i toppen av dokumentet). Det er her vi setter maks iterasjoner på 1000. Til slutt kjøres modellen med test-settet og får en train score og en test score. Disse varierer som sagt litt fra hver gang modellen kjører, men dette er på grunn av at vi har satt max_iter til 1000. Vi har også valgt og formatere scorene til bare 2 desimaler."
   ]
  },
  {
   "cell_type": "code",
   "execution_count": 101,
   "id": "24182e06",
   "metadata": {},
   "outputs": [
    {
     "name": "stderr",
     "output_type": "stream",
     "text": [
      "C:\\Users\\Henrik\\anaconda3\\lib\\site-packages\\sklearn\\neural_network\\_multilayer_perceptron.py:614: ConvergenceWarning: Stochastic Optimizer: Maximum iterations (1000) reached and the optimization hasn't converged yet.\n",
      "  warnings.warn(\n"
     ]
    },
    {
     "name": "stdout",
     "output_type": "stream",
     "text": [
      "Train score: 0.3034 \n",
      "Test score: 0.2994 \n"
     ]
    },
    {
     "name": "stderr",
     "output_type": "stream",
     "text": [
      "C:\\Users\\Henrik\\anaconda3\\lib\\site-packages\\sklearn\\neural_network\\_multilayer_perceptron.py:614: ConvergenceWarning: Stochastic Optimizer: Maximum iterations (1000) reached and the optimization hasn't converged yet.\n",
      "  warnings.warn(\n"
     ]
    }
   ],
   "source": [
    "neural_networks = MLPRegressor(max_iter = 1000)\n",
    "\n",
    "neural_networks.fit(X2_train, y2_train)\n",
    "print(\"Train score: {:.4f} \".format(neural_networks.score(X2_train, y2_train)))\n",
    "\n",
    "neural_networks.fit(X2_test, y2_test)\n",
    "print(\"Test score: {:.4f} \".format(neural_networks.score(X2_test, y2_test)))"
   ]
  },
  {
   "cell_type": "markdown",
   "id": "7e5b4405",
   "metadata": {},
   "source": [
    "# Decision tress"
   ]
  },
  {
   "cell_type": "markdown",
   "id": "3dde4e29",
   "metadata": {},
   "source": [
    "Siden decision tree, random forest og gradient boosting er relativt like i funksjonaliteten, har vi valgt å inkludere disse tre modellene som én modell, for å så sammenligne resultatene. Forskjellen på modellene går ut på antall decision trees, og når i prosessen man kommer frem til resultatene. DecisionTreeRegressor består av ett enkelt decision tree. Det er en lett forståelig og oversiktelig modell, men kan fort få problemer med for eksempel overfitting. Derfor med RandomForestRegressor vil det være mer sannsynlig å komme frem til rett resultat. Ettersom random forest består av mange flere data punkter, er det rimelig å anta at man vil få et mer presist resultat. Istedenfor å gå dypt inn på ett tre, vil random forest lage flere små og grunnere trær, som vil forhindre overfitting. Random forest finner resultatet på slutten av søket, mens GradientBoostingRegressor vil finne resulatene underveis i prosessen. Random forest vil lage hvert tre separat, mens gradient boosting vil lage ett tre om gangen i rekkefølge. Med dette datasettet vil det være mest effektivt med random forest siden modellen fungerer best til å oppdage fler-klasse datasett, mens gradient boosting fungerer bedre på ubalansert data."
   ]
  },
  {
   "cell_type": "code",
   "execution_count": 102,
   "id": "b89726c6",
   "metadata": {},
   "outputs": [
    {
     "name": "stdout",
     "output_type": "stream",
     "text": [
      "Training score: 0.1224\n",
      "Test score: 0.1209\n"
     ]
    }
   ],
   "source": [
    "tree = DecisionTreeRegressor(max_depth = 3)\n",
    "tree.fit(X2_train,y2_train)\n",
    "print(\"Training score: {:.4f}\".format(tree.score(X2_train,y2_train)))\n",
    "print(\"Test score: {:.4f}\".format(tree.score(X2_test, y2_test)))"
   ]
  },
  {
   "cell_type": "code",
   "execution_count": 103,
   "id": "2018dcbf",
   "metadata": {},
   "outputs": [
    {
     "name": "stdout",
     "output_type": "stream",
     "text": [
      "Training score: 0.1614\n",
      "Test score: 0.1479\n"
     ]
    }
   ],
   "source": [
    "forest = RandomForestRegressor(n_estimators = 100, max_depth = 3)\n",
    "forest.fit(X2_train,y2_train)\n",
    "print(\"Training score: {:.4f}\".format(forest.score(X2_train,y2_train)))\n",
    "print(\"Test score: {:.4f}\".format(forest.score(X2_test, y2_test)))"
   ]
  },
  {
   "cell_type": "code",
   "execution_count": 104,
   "id": "84978f43",
   "metadata": {},
   "outputs": [
    {
     "name": "stdout",
     "output_type": "stream",
     "text": [
      "Training score: 0.1402\n",
      "Test score: 0.1146\n"
     ]
    }
   ],
   "source": [
    "gboost = GradientBoostingRegressor(n_estimators = 10)\n",
    "gboost.fit(X2_train,y2_train)\n",
    "print(\"Training score: {:.4f}\".format(gboost.score(X2_train,y2_train)))\n",
    "print(\"Test score: {:.4f}\".format(gboost.score(X2_test, y2_test)))"
   ]
  },
  {
   "cell_type": "markdown",
   "id": "f9af7fd3",
   "metadata": {},
   "source": [
    "Resultatene på de forskjellige decision trees modellene gir tall som er forventet. Random forrest har høyest score med\n",
    "lite overfitting. Unntaket for predikasjonen var at DecisionTreeRegressor hadde nesten null overfitting, og hadde minst overfitting av de tre modellene."
   ]
  },
  {
   "cell_type": "markdown",
   "id": "9d06c0cf",
   "metadata": {},
   "source": [
    "# Ridge"
   ]
  },
  {
   "cell_type": "code",
   "execution_count": 105,
   "id": "6cf3e5bc",
   "metadata": {},
   "outputs": [
    {
     "name": "stdout",
     "output_type": "stream",
     "text": [
      "lr.coef_: [ 1.94061257 -3.34889413  0.69660508  3.01336942 -0.60938173  3.77097178\n",
      "  2.22613689  0.52703958 -2.76772199  0.32545492  1.01838199  1.35766896\n",
      "  0.03803059 -2.8316418  -8.55323617 -7.15385795 -0.2618048   0.70725143\n",
      " -0.01160309 -3.46429278 -5.07819033 -3.82692467 -4.36285786 -0.90636889\n",
      " -0.05590861 -4.070235   -1.22048825  2.16530279 -6.18315746 -2.60718438]\n",
      "lr.intercept_: 40.701846989841066\n",
      "Training set score:  0.09\n",
      "Test set score:  0.07\n"
     ]
    }
   ],
   "source": [
    "from sklearn.linear_model import Ridge\n",
    "lr = Ridge(alpha=30).fit(X2_train,y2_train)\n",
    "print(\"lr.coef_:\", lr.coef_)\n",
    "print(\"lr.intercept_:\", lr.intercept_)\n",
    "print(\"Training set score:  {:.2f}\".format(lr.score(X2_train,y2_train)))\n",
    "print(\"Test set score:  {:.2f}\".format(lr.score(X2_test,y2_test)))"
   ]
  },
  {
   "cell_type": "markdown",
   "id": "e720f3e6",
   "metadata": {},
   "source": [
    "# Konklusjon"
   ]
  },
  {
   "cell_type": "markdown",
   "id": "43bdea7a",
   "metadata": {},
   "source": [
    "I dette arbeidet har vi prøvd å finne en korrelasjon mellom attributer i sanger og popularitet. Basert på scorene vi oppnådde vil vi ikke si at vi var suksessfulle, men dette var ikke noe som overrasket oss. Mens vi gjorde forbehandling og analysering av dataen fant vi fort ut av at det ville bli vanskelig å lage gode modeller som kunne forutsi popularitene på albumene vi fikk tildelt ettersom at vi nesten ikke fant noen underliggende trend i dataen. Totalt sett kan vi konkludere med at ved å bruke disse variablene kan vi ikke forutsi popularitene til sanger. Hvis vi skulle økt den prediktive kraften til modellene våre ville vi prøvd mer å gjøre mer attribut scaling og muligens utforsket datasettet med andre modeller."
   ]
  },
  {
   "cell_type": "markdown",
   "id": "74307fda",
   "metadata": {},
   "source": [
    "# Kilde liste"
   ]
  },
  {
   "cell_type": "markdown",
   "id": "2c673c9c",
   "metadata": {},
   "source": [
    "Glen, S(2019, 28. Juli), Decision Tree vs Random Forest vs Gradient Boosting Machines: Explained Simply. Hentet 11.05.2022 fra: https://www.datasciencecentral.com/decision-tree-vs-random-forest-vs-boosted-trees-explained/"
   ]
  },
  {
   "cell_type": "markdown",
   "id": "68ea811f",
   "metadata": {},
   "source": [
    "Chauhan, S, Nagesh S(2019, 19. Juli), From Data Pre-processing to Optimizing a Regression Model Performance: KDnuggets. Hentet 11.05.2022 fra: https://www.kdnuggets.com/2019/07/data-pre-processing-optimizing-regression-model-performance.html"
   ]
  },
  {
   "cell_type": "markdown",
   "id": "18600ea4",
   "metadata": {},
   "source": [
    "http://localhost:8889/notebooks/Downloads/linear_regression%20(1).ipynb"
   ]
  },
  {
   "cell_type": "markdown",
   "id": "43e19d8b",
   "metadata": {},
   "source": [
    "http://localhost:8889/notebooks/Downloads/neural.ipynb"
   ]
  },
  {
   "cell_type": "markdown",
   "id": "2413b7b6",
   "metadata": {},
   "source": [
    "http://localhost:8889/notebooks/Downloads/veryGoodA.ipynb"
   ]
  }
 ],
 "metadata": {
  "kernelspec": {
   "display_name": "Python 3 (ipykernel)",
   "language": "python",
   "name": "python3"
  },
  "language_info": {
   "codemirror_mode": {
    "name": "ipython",
    "version": 3
   },
   "file_extension": ".py",
   "mimetype": "text/x-python",
   "name": "python",
   "nbconvert_exporter": "python",
   "pygments_lexer": "ipython3",
   "version": "3.9.7"
  }
 },
 "nbformat": 4,
 "nbformat_minor": 5
}
